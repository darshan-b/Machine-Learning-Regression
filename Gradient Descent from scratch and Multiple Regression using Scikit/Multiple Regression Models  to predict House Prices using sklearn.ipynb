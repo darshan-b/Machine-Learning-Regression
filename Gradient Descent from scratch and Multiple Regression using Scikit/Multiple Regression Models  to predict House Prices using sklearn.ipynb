{
 "cells": [
  {
   "cell_type": "code",
   "execution_count": 1,
   "metadata": {
    "collapsed": true
   },
   "outputs": [],
   "source": [
    "#Importing libraries\n",
    "import pandas as pd\n",
    "import numpy as np\n",
    "import matplotlib.pyplot as plt\n",
    "from sklearn.linear_model import LinearRegression\n",
    "%matplotlib inline"
   ]
  },
  {
   "cell_type": "code",
   "execution_count": 2,
   "metadata": {
    "collapsed": false
   },
   "outputs": [
    {
     "data": {
      "text/html": [
       "<div>\n",
       "<table border=\"1\" class=\"dataframe\">\n",
       "  <thead>\n",
       "    <tr style=\"text-align: right;\">\n",
       "      <th></th>\n",
       "      <th>id</th>\n",
       "      <th>date</th>\n",
       "      <th>price</th>\n",
       "      <th>bedrooms</th>\n",
       "      <th>bathrooms</th>\n",
       "      <th>sqft_living</th>\n",
       "      <th>sqft_lot</th>\n",
       "      <th>floors</th>\n",
       "      <th>waterfront</th>\n",
       "      <th>view</th>\n",
       "      <th>...</th>\n",
       "      <th>grade</th>\n",
       "      <th>sqft_above</th>\n",
       "      <th>sqft_basement</th>\n",
       "      <th>yr_built</th>\n",
       "      <th>yr_renovated</th>\n",
       "      <th>zipcode</th>\n",
       "      <th>lat</th>\n",
       "      <th>long</th>\n",
       "      <th>sqft_living15</th>\n",
       "      <th>sqft_lot15</th>\n",
       "    </tr>\n",
       "  </thead>\n",
       "  <tbody>\n",
       "    <tr>\n",
       "      <th>0</th>\n",
       "      <td>7129300520</td>\n",
       "      <td>20141013T000000</td>\n",
       "      <td>221900.0</td>\n",
       "      <td>3.0</td>\n",
       "      <td>1.0</td>\n",
       "      <td>1180.0</td>\n",
       "      <td>5650</td>\n",
       "      <td>1</td>\n",
       "      <td>0</td>\n",
       "      <td>0</td>\n",
       "      <td>...</td>\n",
       "      <td>7</td>\n",
       "      <td>1180</td>\n",
       "      <td>0</td>\n",
       "      <td>1955</td>\n",
       "      <td>0</td>\n",
       "      <td>98178</td>\n",
       "      <td>47.5112</td>\n",
       "      <td>-122.257</td>\n",
       "      <td>1340.0</td>\n",
       "      <td>5650.0</td>\n",
       "    </tr>\n",
       "  </tbody>\n",
       "</table>\n",
       "<p>1 rows × 21 columns</p>\n",
       "</div>"
      ],
      "text/plain": [
       "           id             date     price  bedrooms  bathrooms  sqft_living  \\\n",
       "0  7129300520  20141013T000000  221900.0       3.0        1.0       1180.0   \n",
       "\n",
       "   sqft_lot floors  waterfront  view     ...      grade  sqft_above  \\\n",
       "0      5650      1           0     0     ...          7        1180   \n",
       "\n",
       "   sqft_basement  yr_built  yr_renovated  zipcode      lat     long  \\\n",
       "0              0      1955             0    98178  47.5112 -122.257   \n",
       "\n",
       "   sqft_living15  sqft_lot15  \n",
       "0         1340.0      5650.0  \n",
       "\n",
       "[1 rows x 21 columns]"
      ]
     },
     "execution_count": 2,
     "metadata": {},
     "output_type": "execute_result"
    }
   ],
   "source": [
    "dtype_dict = {'bathrooms':float, 'waterfront':int, 'sqft_above':int, 'sqft_living15':float, 'grade':int, \n",
    "              'yr_renovated':int, 'price':float, 'bedrooms':float, 'zipcode':str, 'long':float, 'sqft_lot15':float, \n",
    "              'sqft_living':float, 'floors':str, 'condition':int, 'lat':float, 'date':str, 'sqft_basement':int, \n",
    "              'yr_built':int, 'id':str, 'sqft_lot':int, 'view':int}\n",
    "kc_house=pd.read_csv('kc_house_data.csv',dtype=dtype_dict)\n",
    "kc_house_train=pd.read_csv('kc_house_train_data.csv',dtype=dtype_dict)\n",
    "kc_house_test=pd.read_csv('kc_house_test_data.csv',dtype=dtype_dict)\n",
    "kc_house_train.head(1)"
   ]
  },
  {
   "cell_type": "code",
   "execution_count": 5,
   "metadata": {
    "collapsed": false
   },
   "outputs": [],
   "source": [
    "# Creating new features\n",
    "# Square is used to increase the increase of a value\n",
    "# Log is used to decrease the scale of values\n",
    "# Interactive features have a greater effect together \n",
    "kc_house_test['bed_bath_rooms']=kc_house_test['bedrooms']*kc_house_test['bathrooms']\n",
    "kc_house_test['lat_plus_long']=kc_house_test['lat']+kc_house_test['long']\n",
    "kc_house_test['bedrooms_squared']=kc_house_test['bedrooms']*kc_house_test['bedrooms']\n",
    "kc_house_test['log_sqft_living']=np.log(kc_house_test['sqft_living'])"
   ]
  },
  {
   "cell_type": "code",
   "execution_count": 6,
   "metadata": {
    "collapsed": false
   },
   "outputs": [],
   "source": [
    "kc_house_train['bed_bath_rooms']=kc_house_train['bedrooms']*kc_house_train['bathrooms']\n",
    "kc_house_train['lat_plus_long']=kc_house_train['lat']+kc_house_train['long']\n",
    "kc_house_train['bedrooms_squared']=kc_house_train['bedrooms']*kc_house_train['bedrooms']\n",
    "kc_house_train['log_sqft_living']=np.log(kc_house_train['sqft_living'])"
   ]
  },
  {
   "cell_type": "code",
   "execution_count": 74,
   "metadata": {
    "collapsed": false
   },
   "outputs": [
    {
     "data": {
      "text/plain": [
       "7.5039016315913925"
      ]
     },
     "execution_count": 74,
     "metadata": {},
     "output_type": "execute_result"
    }
   ],
   "source": [
    "#Mean of bed_bath_rooms\n",
    "np.mean(kc_house_test['bed_bath_rooms'])"
   ]
  },
  {
   "cell_type": "code",
   "execution_count": 7,
   "metadata": {
    "collapsed": false
   },
   "outputs": [
    {
     "data": {
      "text/plain": [
       "-74.65333355403185"
      ]
     },
     "execution_count": 7,
     "metadata": {},
     "output_type": "execute_result"
    }
   ],
   "source": [
    "#Mean of lat_plus_long\n",
    "np.mean(kc_house_test['lat_plus_long'])"
   ]
  },
  {
   "cell_type": "code",
   "execution_count": 8,
   "metadata": {
    "collapsed": false
   },
   "outputs": [
    {
     "data": {
      "text/plain": [
       "12.4466777015843"
      ]
     },
     "execution_count": 8,
     "metadata": {},
     "output_type": "execute_result"
    }
   ],
   "source": [
    "#Mean of bedrooms squared\n",
    "np.mean(kc_house_test['bedrooms_squared'])"
   ]
  },
  {
   "cell_type": "code",
   "execution_count": 9,
   "metadata": {
    "collapsed": false
   },
   "outputs": [
    {
     "data": {
      "text/plain": [
       "7.550274679645921"
      ]
     },
     "execution_count": 9,
     "metadata": {},
     "output_type": "execute_result"
    }
   ],
   "source": [
    "#Mean of log sqft_living\n",
    "np.mean(kc_house_test['log_sqft_living'])"
   ]
  },
  {
   "cell_type": "code",
   "execution_count": 10,
   "metadata": {
    "collapsed": false
   },
   "outputs": [],
   "source": [
    "#Training a linear model on the multiple features\n",
    "y=kc_house_train['price']\n",
    "model1_X=kc_house_train[['sqft_living','bedrooms','bathrooms','lat','long']]\n",
    "model1=LinearRegression()\n",
    "model1_values=model1.fit(model1_X,y) #Fitting the data\n",
    "model1_pred=model1.predict(model1_X) #Predicting the values\n",
    "model1_coeff=pd.DataFrame(model1.coef_,model1_X.columns,columns=['Co-efficients'])#\n",
    "# Creating a new dataframe for the features and thier coefficients"
   ]
  },
  {
   "cell_type": "code",
   "execution_count": 11,
   "metadata": {
    "collapsed": false
   },
   "outputs": [
    {
     "data": {
      "text/html": [
       "<div>\n",
       "<table border=\"1\" class=\"dataframe\">\n",
       "  <thead>\n",
       "    <tr style=\"text-align: right;\">\n",
       "      <th></th>\n",
       "      <th>Co-efficients</th>\n",
       "    </tr>\n",
       "  </thead>\n",
       "  <tbody>\n",
       "    <tr>\n",
       "      <th>sqft_living</th>\n",
       "      <td>312.258646</td>\n",
       "    </tr>\n",
       "    <tr>\n",
       "      <th>bedrooms</th>\n",
       "      <td>-59586.533154</td>\n",
       "    </tr>\n",
       "    <tr>\n",
       "      <th>bathrooms</th>\n",
       "      <td>15706.742083</td>\n",
       "    </tr>\n",
       "    <tr>\n",
       "      <th>lat</th>\n",
       "      <td>658619.263931</td>\n",
       "    </tr>\n",
       "    <tr>\n",
       "      <th>long</th>\n",
       "      <td>-309374.351268</td>\n",
       "    </tr>\n",
       "  </tbody>\n",
       "</table>\n",
       "</div>"
      ],
      "text/plain": [
       "             Co-efficients\n",
       "sqft_living     312.258646\n",
       "bedrooms     -59586.533154\n",
       "bathrooms     15706.742083\n",
       "lat          658619.263931\n",
       "long        -309374.351268"
      ]
     },
     "execution_count": 11,
     "metadata": {},
     "output_type": "execute_result"
    }
   ],
   "source": [
    "model1_coeff"
   ]
  },
  {
   "cell_type": "code",
   "execution_count": 12,
   "metadata": {
    "collapsed": false
   },
   "outputs": [],
   "source": [
    "#Training a linear model on the different set of features\n",
    "y=kc_house_train['price']\n",
    "model2_X=kc_house_train[['sqft_living','bedrooms','bathrooms','lat','long','bed_bath_rooms']]\n",
    "model2=LinearRegression()\n",
    "model2_values=model2.fit(model2_X,y)\n",
    "model2_pred=model2.predict(model2_X)\n",
    "model2_coeff=pd.DataFrame(model2.coef_,model2_X.columns,columns=['Co-efficients'])"
   ]
  },
  {
   "cell_type": "code",
   "execution_count": 13,
   "metadata": {
    "collapsed": false
   },
   "outputs": [
    {
     "data": {
      "text/html": [
       "<div>\n",
       "<table border=\"1\" class=\"dataframe\">\n",
       "  <thead>\n",
       "    <tr style=\"text-align: right;\">\n",
       "      <th></th>\n",
       "      <th>Co-efficients</th>\n",
       "    </tr>\n",
       "  </thead>\n",
       "  <tbody>\n",
       "    <tr>\n",
       "      <th>sqft_living</th>\n",
       "      <td>306.610053</td>\n",
       "    </tr>\n",
       "    <tr>\n",
       "      <th>bedrooms</th>\n",
       "      <td>-113446.368070</td>\n",
       "    </tr>\n",
       "    <tr>\n",
       "      <th>bathrooms</th>\n",
       "      <td>-71461.308293</td>\n",
       "    </tr>\n",
       "    <tr>\n",
       "      <th>lat</th>\n",
       "      <td>654844.629503</td>\n",
       "    </tr>\n",
       "    <tr>\n",
       "      <th>long</th>\n",
       "      <td>-294298.969138</td>\n",
       "    </tr>\n",
       "    <tr>\n",
       "      <th>bed_bath_rooms</th>\n",
       "      <td>25579.652001</td>\n",
       "    </tr>\n",
       "  </tbody>\n",
       "</table>\n",
       "</div>"
      ],
      "text/plain": [
       "                Co-efficients\n",
       "sqft_living        306.610053\n",
       "bedrooms       -113446.368070\n",
       "bathrooms       -71461.308293\n",
       "lat             654844.629503\n",
       "long           -294298.969138\n",
       "bed_bath_rooms   25579.652001"
      ]
     },
     "execution_count": 13,
     "metadata": {},
     "output_type": "execute_result"
    }
   ],
   "source": [
    "model2_coeff"
   ]
  },
  {
   "cell_type": "code",
   "execution_count": 14,
   "metadata": {
    "collapsed": false
   },
   "outputs": [],
   "source": [
    "#Training a linear model on the different set of features\n",
    "y=kc_house_train['price']\n",
    "model3_X=kc_house_train[['sqft_living','bedrooms','bathrooms','lat','long','bed_bath_rooms','bedrooms_squared', 'log_sqft_living','lat_plus_long']]\n",
    "model3=LinearRegression()\n",
    "model3_values=model3.fit(model3_X,y)\n",
    "model3_pred=model3.predict(model3_X)\n",
    "model3_coeff=pd.DataFrame(model3.coef_,model3_X.columns,columns=['Co-efficients'])"
   ]
  },
  {
   "cell_type": "code",
   "execution_count": 15,
   "metadata": {
    "collapsed": false
   },
   "outputs": [
    {
     "data": {
      "text/html": [
       "<div>\n",
       "<table border=\"1\" class=\"dataframe\">\n",
       "  <thead>\n",
       "    <tr style=\"text-align: right;\">\n",
       "      <th></th>\n",
       "      <th>Co-efficients</th>\n",
       "    </tr>\n",
       "  </thead>\n",
       "  <tbody>\n",
       "    <tr>\n",
       "      <th>sqft_living</th>\n",
       "      <td>529.422820</td>\n",
       "    </tr>\n",
       "    <tr>\n",
       "      <th>bedrooms</th>\n",
       "      <td>34514.229578</td>\n",
       "    </tr>\n",
       "    <tr>\n",
       "      <th>bathrooms</th>\n",
       "      <td>67060.781319</td>\n",
       "    </tr>\n",
       "    <tr>\n",
       "      <th>lat</th>\n",
       "      <td>534085.610867</td>\n",
       "    </tr>\n",
       "    <tr>\n",
       "      <th>long</th>\n",
       "      <td>-406750.710861</td>\n",
       "    </tr>\n",
       "    <tr>\n",
       "      <th>bed_bath_rooms</th>\n",
       "      <td>-8570.504395</td>\n",
       "    </tr>\n",
       "    <tr>\n",
       "      <th>bedrooms_squared</th>\n",
       "      <td>-6788.586670</td>\n",
       "    </tr>\n",
       "    <tr>\n",
       "      <th>log_sqft_living</th>\n",
       "      <td>-561831.484076</td>\n",
       "    </tr>\n",
       "    <tr>\n",
       "      <th>lat_plus_long</th>\n",
       "      <td>127334.900006</td>\n",
       "    </tr>\n",
       "  </tbody>\n",
       "</table>\n",
       "</div>"
      ],
      "text/plain": [
       "                  Co-efficients\n",
       "sqft_living          529.422820\n",
       "bedrooms           34514.229578\n",
       "bathrooms          67060.781319\n",
       "lat               534085.610867\n",
       "long             -406750.710861\n",
       "bed_bath_rooms     -8570.504395\n",
       "bedrooms_squared   -6788.586670\n",
       "log_sqft_living  -561831.484076\n",
       "lat_plus_long     127334.900006"
      ]
     },
     "execution_count": 15,
     "metadata": {},
     "output_type": "execute_result"
    }
   ],
   "source": [
    "model3_coeff"
   ]
  },
  {
   "cell_type": "code",
   "execution_count": 23,
   "metadata": {
    "collapsed": false
   },
   "outputs": [
    {
     "name": "stdout",
     "output_type": "stream",
     "text": [
      "For Training Data\n",
      "RSS of Model 1 is: 2.255e+14 \n",
      "RSS of Model 2 is: 2.234e+14 \n",
      "RsS of Model 3 is: 2.592e+14\n"
     ]
    }
   ],
   "source": [
    "#Question 7\n",
    "model1_RSS=np.sum(np.square(y-model1_pred))\n",
    "model2_RSS=np.sum(np.square(y-model2_pred))\n",
    "model3_RSS=np.sum(np.square(y-model3_pred))\n",
    "\n",
    "print \"For Training Data\"\n",
    "print \"RSS of Model 1 is:\",'%.3e' % model1_RSS,\"\\nRSS of Model 2 is:\",'%.3e' % model2_RSS,\"\\nRsS of Model 3 is:\", '%.3e' % model3_RSS"
   ]
  },
  {
   "cell_type": "code",
   "execution_count": 22,
   "metadata": {
    "collapsed": false
   },
   "outputs": [
    {
     "name": "stdout",
     "output_type": "stream",
     "text": [
      " For Test Data\n",
      "RSS of Model 1 is: 2.255e+14 \n",
      "RSS of Model 2 is: 2.234e+14 \n",
      "RsS of Model 3 is: 2.592e+14\n"
     ]
    }
   ],
   "source": [
    "#Similarly on test data\n",
    "model1_X=kc_house_test[['sqft_living','bedrooms','bathrooms','lat','long']]\n",
    "model1_pred=model1.predict(model1_X)\n",
    "\n",
    "model2_X=kc_house_test[['sqft_living','bedrooms','bathrooms','lat','long','bed_bath_rooms']]\n",
    "model2_pred=model2.predict(model2_X)\n",
    "\n",
    "model3_X=kc_house_test[['sqft_living','bedrooms','bathrooms','lat','long','bed_bath_rooms','bedrooms_squared', \n",
    "                        'log_sqft_living','lat_plus_long']]\n",
    "model3_pred=model3.predict(model3_X)\n",
    "\n",
    "y=kc_house_test['price']\n",
    "\n",
    "model1_RSS=np.sum(np.square(y-model1_pred))\n",
    "model2_RSS=np.sum(np.square(y-model2_pred))\n",
    "model3_RSS=np.sum(np.square(y-model3_pred))\n",
    "\n",
    "print \" For Test Data\"\n",
    "print \"RSS of Model 1 is:\",'%.3e' % model1_RSS,\"\\nRSS of Model 2 is:\",'%.3e' % model2_RSS,\"\\nRsS of Model 3 is:\", '%.3e' % model3_RSS"
   ]
  },
  {
   "cell_type": "markdown",
   "metadata": {
    "collapsed": true
   },
   "source": [
    "## Thank You!"
   ]
  }
 ],
 "metadata": {
  "kernelspec": {
   "display_name": "Python 2",
   "language": "python",
   "name": "python2"
  },
  "language_info": {
   "codemirror_mode": {
    "name": "ipython",
    "version": 2
   },
   "file_extension": ".py",
   "mimetype": "text/x-python",
   "name": "python",
   "nbconvert_exporter": "python",
   "pygments_lexer": "ipython2",
   "version": "2.7.13"
  }
 },
 "nbformat": 4,
 "nbformat_minor": 0
}
