{
 "cells": [
  {
   "cell_type": "markdown",
   "metadata": {},
   "source": [
    "# Predicting house prices using k-nearest neighbors regression"
   ]
  },
  {
   "cell_type": "code",
   "execution_count": 13,
   "metadata": {
    "collapsed": true
   },
   "outputs": [],
   "source": [
    "import graphlab\n",
    "import numpy as np\n",
    "import matplotlib.pyplot as plt\n",
    "%matplotlib inline"
   ]
  },
  {
   "cell_type": "markdown",
   "metadata": {},
   "source": [
    "# Load in house sales data"
   ]
  },
  {
   "cell_type": "code",
   "execution_count": 14,
   "metadata": {
    "collapsed": false
   },
   "outputs": [],
   "source": [
    "# Housing sales data for King County, Seatle, WA\n",
    "sales = graphlab.SFrame('kc_house_data_small.gl/')"
   ]
  },
  {
   "cell_type": "code",
   "execution_count": 15,
   "metadata": {
    "collapsed": true
   },
   "outputs": [],
   "source": [
    "def get_numpy_data(df,features,output):\n",
    "    df['constant']=1 # A new column for the constant/intercept term\n",
    "    features=['constant']+features # Column Names\n",
    "    sframe=df[features] # Copy all the data for the selected features in the new dataframe\n",
    "    smatrix=sframe.to_numpy() # Creating a numpy array for the features\n",
    "    output_array=np.array(df[output])# Array for the ouptut/target\n",
    "    return smatrix, output_array"
   ]
  },
  {
   "cell_type": "markdown",
   "metadata": {},
   "source": [
    "We will also need the `normalize_features()` function from Week 5 that normalizes all feature columns to unit norm. Paste this function below."
   ]
  },
  {
   "cell_type": "code",
   "execution_count": 16,
   "metadata": {
    "collapsed": true
   },
   "outputs": [],
   "source": [
    "def normalize_features(features):\n",
    "    #To normalize the dataset\n",
    "    norms = np.linalg.norm(features, axis=0)\n",
    "    normalized_features=features/norms\n",
    "    return (normalized_features, norms)"
   ]
  },
  {
   "cell_type": "markdown",
   "metadata": {},
   "source": [
    "# Split data into training, test, and validation sets"
   ]
  },
  {
   "cell_type": "code",
   "execution_count": 17,
   "metadata": {
    "collapsed": false
   },
   "outputs": [],
   "source": [
    "(train_and_validation, test) = sales.random_split(.8, seed=1) # initial train/test split\n",
    "(train, validation) = train_and_validation.random_split(.8, seed=1) # split training set into training and validation sets"
   ]
  },
  {
   "cell_type": "markdown",
   "metadata": {},
   "source": [
    "# Extract features and normalize"
   ]
  },
  {
   "cell_type": "code",
   "execution_count": 18,
   "metadata": {
    "collapsed": false
   },
   "outputs": [],
   "source": [
    "feature_list = ['bedrooms',  \n",
    "                'bathrooms',  \n",
    "                'sqft_living',  \n",
    "                'sqft_lot',  \n",
    "                'floors',\n",
    "                'waterfront',  \n",
    "                'view',  \n",
    "                'condition',  \n",
    "                'grade',  \n",
    "                'sqft_above',  \n",
    "                'sqft_basement',\n",
    "                'yr_built',  \n",
    "                'yr_renovated',  \n",
    "                'lat',  \n",
    "                'long',  \n",
    "                'sqft_living15',  \n",
    "                'sqft_lot15']\n",
    "# Get the features in array for the test,training and validation data\n",
    "features_train, output_train = get_numpy_data(train, feature_list, 'price')\n",
    "features_test, output_test = get_numpy_data(test, feature_list, 'price')\n",
    "features_valid, output_valid = get_numpy_data(validation, feature_list, 'price')"
   ]
  },
  {
   "cell_type": "code",
   "execution_count": 19,
   "metadata": {
    "collapsed": true
   },
   "outputs": [],
   "source": [
    "features_train, norms = normalize_features(features_train) # normalize training set features (columns)\n",
    "features_test = features_test / norms # normalize test set by training set norms\n",
    "features_valid = features_valid / norms # normalize validation set by training set norms"
   ]
  },
  {
   "cell_type": "markdown",
   "metadata": {},
   "source": [
    "# Compute a single distance"
   ]
  },
  {
   "cell_type": "markdown",
   "metadata": {},
   "source": [
    "We will take our **query house** to be the first house of the test set and look at the distance between this house and the 10th house of the training set."
   ]
  },
  {
   "cell_type": "code",
   "execution_count": 20,
   "metadata": {
    "collapsed": false
   },
   "outputs": [
    {
     "data": {
      "text/plain": [
       "array([ 0.01345102,  0.01163464,  0.00602491,  0.0083488 ,  0.00050756,\n",
       "        0.01279425,  0.        ,  0.        ,  0.01938684,  0.01390535,\n",
       "        0.0096309 ,  0.        ,  0.01302544,  0.        ,  0.01346821,\n",
       "       -0.01346254,  0.01195898,  0.00156612])"
      ]
     },
     "execution_count": 20,
     "metadata": {},
     "output_type": "execute_result"
    }
   ],
   "source": [
    "#Set query house as house 0\n",
    "query=features_test[0]\n",
    "\n",
    "#House 10\n",
    "house10=features_train[9]\n",
    "house10"
   ]
  },
  {
   "cell_type": "code",
   "execution_count": 21,
   "metadata": {
    "collapsed": false
   },
   "outputs": [
    {
     "name": "stdout",
     "output_type": "stream",
     "text": [
      "The Euclidean distance between the query house and House 10 is 0.0597235937167\n"
     ]
    }
   ],
   "source": [
    "#Euclidean distance between the query house and the 10th house\n",
    "print \"The Euclidean distance between the query house and House 10 is\",(np.sqrt(np.sum((query-house10)**2)))"
   ]
  },
  {
   "cell_type": "markdown",
   "metadata": {},
   "source": [
    "# Compute multiple distances"
   ]
  },
  {
   "cell_type": "markdown",
   "metadata": {},
   "source": [
    "Of course, to do nearest neighbor regression, we need to compute the distance between our query house and *all* houses in the training set.  \n",
    "\n",
    "To visualize this nearest-neighbor search, let's first compute the distance from our query house (`features_test[0]`) to the first 10 houses of the training set (`features_train[0:10]`) and then search for the nearest neighbor within this small set of houses.  Through restricting ourselves to a small set of houses to begin with, we can visually scan the list of 10 distances to verify that our code for finding the nearest neighbor is working.\n",
    "\n",
    "Write a loop to compute the Euclidean distance from the query house to each of the first 10 houses in the training set."
   ]
  },
  {
   "cell_type": "code",
   "execution_count": 22,
   "metadata": {
    "collapsed": false
   },
   "outputs": [
    {
     "name": "stdout",
     "output_type": "stream",
     "text": [
      "House 1 is at an Euclidean distance of 0.060274709173 from House 0 of test set\n",
      "\n",
      "House 2 is at an Euclidean distance of 0.0854688114883 from House 0 of test set\n",
      "\n",
      "House 3 is at an Euclidean distance of 0.0614994643712 from House 0 of test set\n",
      "\n",
      "House 4 is at an Euclidean distance of 0.0534027397882 from House 0 of test set\n",
      "\n",
      "House 5 is at an Euclidean distance of 0.0584448406394 from House 0 of test set\n",
      "\n",
      "House 6 is at an Euclidean distance of 0.0598792151018 from House 0 of test set\n",
      "\n",
      "House 7 is at an Euclidean distance of 0.0546314049726 from House 0 of test set\n",
      "\n",
      "House 8 is at an Euclidean distance of 0.0554310832416 from House 0 of test set\n",
      "\n",
      "House 9 is at an Euclidean distance of 0.052383627841 from House 0 of test set\n",
      "\n",
      "House 10 is at an Euclidean distance of 0.0597235937167 from House 0 of test set\n",
      "\n",
      "Closet House is 9 and the distance is 0.052384\n"
     ]
    }
   ],
   "source": [
    "#Initial closet house is 10\n",
    "a,index=1,1\n",
    "\n",
    "# To calculate the distance of first 10 houses from the training set to house 0 from test data\n",
    "for i in range(len(features_train[0:10])):\n",
    "    dist=np.sqrt(np.sum((query-features_train[i])**2))\n",
    "    if dist<a:\n",
    "        a=dist\n",
    "        index=i+1\n",
    "    print \"House\",(i+1),\"is at an Euclidean distance of\",(dist),\"from House 0 of test set\\n\"\n",
    "print(\"Closet House is %d and the distance is %f\" %(index,a))"
   ]
  },
  {
   "cell_type": "markdown",
   "metadata": {},
   "source": [
    "It is computationally inefficient to loop over computing distances to all houses in our training dataset. Fortunately, many of the Numpy functions can be **vectorized**, applying the same operation over multiple values or vectors.  We now walk through this process."
   ]
  },
  {
   "cell_type": "markdown",
   "metadata": {},
   "source": [
    "# Perform 1-nearest neighbor regression"
   ]
  },
  {
   "cell_type": "code",
   "execution_count": 23,
   "metadata": {
    "collapsed": false
   },
   "outputs": [],
   "source": [
    "#Calculate the difference between all the training data and the query house\n",
    "diff=features_train[0:len(features_train)]-features_test[0]"
   ]
  },
  {
   "cell_type": "markdown",
   "metadata": {},
   "source": [
    "The next step in computing the Euclidean distances is to take these feature-by-feature differences in `diff`, square each, and take the sum over feature indices.  That is, compute the sum of square feature differences for each training house (row in `diff`)."
   ]
  },
  {
   "cell_type": "code",
   "execution_count": 24,
   "metadata": {
    "collapsed": false
   },
   "outputs": [],
   "source": [
    "#Calculating the distances\n",
    "distances=np.sqrt(np.sum(diff**2,axis=1))"
   ]
  },
  {
   "cell_type": "markdown",
   "metadata": {},
   "source": [
    "Below is  a function that computes the distances from a query house to all training houses. The function takes two parameters: (i) the matrix of training features and (ii) the single feature vector associated with the query."
   ]
  },
  {
   "cell_type": "code",
   "execution_count": 25,
   "metadata": {
    "collapsed": false
   },
   "outputs": [
    {
     "name": "stdout",
     "output_type": "stream",
     "text": [
      "The closet house to query house is at index 382 and the distance is 0.00286049526751\n"
     ]
    }
   ],
   "source": [
    "\n",
    "def comp_distances(features_instances, features_query):\n",
    "    #FUnction that computes the distance between the query house and training set\n",
    "    diff = features_instances[0:len(features_instances)] - features_query\n",
    "    distances = np.sqrt(np.sum(diff**2, axis=1))\n",
    "    return distances\n",
    "\n",
    "\n",
    "distances = comp_distances(features_train, features_test[2])\n",
    "min = distances[0]\n",
    "index = 0\n",
    "\n",
    "#To find the house closet to the query house\n",
    "for i in xrange(len(distances)):\n",
    "    if(distances[i] < min):\n",
    "        min = distances[i]\n",
    "        index = i\n",
    "print \"The closet house to query house is at index\",index,\"and the distance is\",min"
   ]
  },
  {
   "cell_type": "code",
   "execution_count": 26,
   "metadata": {
    "collapsed": true
   },
   "outputs": [],
   "source": [
    "#Fucntion to calculate the distance form to a house\n",
    "def dist_from_to(fe_m,query_matrix):\n",
    "    d_d=fe_m[0:len(fe_m)]-query_matrix\n",
    "    d_q=np.sqrt(np.sum(d_d**2,axis=1))\n",
    "    return d_q"
   ]
  },
  {
   "cell_type": "markdown",
   "metadata": {},
   "source": [
    "# Perform k-nearest neighbor regression"
   ]
  },
  {
   "cell_type": "markdown",
   "metadata": {},
   "source": [
    "For k-nearest neighbors, we need to find a *set* of k houses in the training set closest to a given query house. We then make predictions based on these k nearest neighbors."
   ]
  },
  {
   "cell_type": "code",
   "execution_count": 27,
   "metadata": {
    "collapsed": true
   },
   "outputs": [],
   "source": [
    "# Fucntion to calculate the k closet house to the query house\n",
    "def dist_from_to_k(feature_matrix,query_matrix,k):\n",
    "    di=feature_matrix[:]-query_matrix\n",
    "    distances_query=np.sqrt(np.sum(di**2,axis=1))\n",
    "    index_closet=np.argsort(distances)[0:k]\n",
    "    return index_closet\n"
   ]
  },
  {
   "cell_type": "markdown",
   "metadata": {},
   "source": [
    "*** QUIZ QUESTION ***\n",
    "\n",
    "Take the query house to be third house of the test set (`features_test[2]`).  What are the indices of the 4 training houses closest to the query house?"
   ]
  },
  {
   "cell_type": "code",
   "execution_count": 28,
   "metadata": {
    "collapsed": false
   },
   "outputs": [
    {
     "data": {
      "text/plain": [
       "array([ 382, 1149, 4087, 3142], dtype=int64)"
      ]
     },
     "execution_count": 28,
     "metadata": {},
     "output_type": "execute_result"
    }
   ],
   "source": [
    "#which are the four Training house closet to test house[2]\n",
    "q3=dist_from_to_k(features_train,features_test[2],4)\n",
    "q3"
   ]
  },
  {
   "cell_type": "markdown",
   "metadata": {},
   "source": [
    "## Make a single prediction by averaging k nearest neighbor outputs"
   ]
  },
  {
   "cell_type": "markdown",
   "metadata": {},
   "source": [
    "Now that we know how to find the k-nearest neighbors, write a function that predicts the value of a given query house. **For simplicity, take the average of the prices of the k nearest neighbors in the training set**. The function should have the following parameters:\n",
    " * the value of k;\n",
    " * the feature matrix for the training houses;\n",
    " * the output values (prices) of the training houses; and\n",
    " * the feature vector of the query house, whose price we are predicting.\n",
    " \n",
    "The function should return a predicted value of the query house.\n",
    "\n",
    "**Hint**: You can extract multiple items from a Numpy array using a list of indices. For instance, `output_train[[6, 10]]` returns the prices of the 7th and 11th training houses."
   ]
  },
  {
   "cell_type": "code",
   "execution_count": 29,
   "metadata": {
    "collapsed": true
   },
   "outputs": [],
   "source": [
    "#Calculate the value of the house based on the k-nearest neighbors\n",
    "def predict_value(k,feature_matrix,output_values,query_house):\n",
    "    difference=feature_matrix-query_house\n",
    "    distances_query=np.sqrt(np.sum(difference**2,axis=1))\n",
    "    index_closet=np.argsort(distances)[0:k]\n",
    "    avg_price=np.sum(output_values[index_closet[:]])\n",
    "    avg_price=avg_price/float(len(index_closet))\n",
    "    return avg_price"
   ]
  },
  {
   "cell_type": "markdown",
   "metadata": {},
   "source": [
    "*** QUIZ QUESTION ***\n",
    "\n",
    "Again taking the query house to be third house of the test set (`features_test[2]`), predict the value of the query house using k-nearest neighbors with `k=4` and the simple averaging method described and implemented above."
   ]
  },
  {
   "cell_type": "code",
   "execution_count": 30,
   "metadata": {
    "collapsed": false
   },
   "outputs": [
    {
     "name": "stdout",
     "output_type": "stream",
     "text": [
      "Predicted value of house 3 from test data based on k-nearest negihbors where k=4 is 413987.500000\n",
      "The actual value of the house is 438000\n"
     ]
    }
   ],
   "source": [
    "# Predicted value of house 3 in test data, using k=4\n",
    "a=predict_value(4,features_train,output_train,features_test[4])\n",
    "print \"Predicted value of house 3 from test data based on k-nearest negihbors where k=4 is\",('%3f' %a)\n",
    "print \"The actual value of the house is\",output_test[2]"
   ]
  },
  {
   "cell_type": "markdown",
   "metadata": {},
   "source": [
    "There remains a question of choosing the value of k to use in making predictions. Here, we use a validation set to choose this value. Write a loop that does the following:\n",
    "\n",
    "* For `k` in [1, 2, ..., 15]:\n",
    "    * Makes predictions for each house in the VALIDATION set using the k-nearest neighbors from the TRAINING set.\n",
    "    * Computes the RSS for these predictions on the VALIDATION set\n",
    "    * Stores the RSS computed above in `rss_all`"
   ]
  },
  {
   "cell_type": "code",
   "execution_count": 41,
   "metadata": {
    "collapsed": false
   },
   "outputs": [
    {
     "name": "stdout",
     "output_type": "stream",
     "text": [
      "1 3.1308142995e+14\n",
      "2 2.3347267407e+14\n",
      "3 2.12052567884e+14\n",
      "4 2.09938610404e+14\n",
      "5 2.24220698554e+14\n",
      "6 2.11115066113e+14\n",
      "7 2.14683075375e+14\n",
      "8 2.18055258692e+14\n",
      "9 2.02742345974e+14\n",
      "10 1.94953528616e+14\n",
      "11 1.95912790578e+14\n",
      "12 1.94864370876e+14\n",
      "13 1.9328447847e+14\n",
      "14 1.93879594861e+14\n",
      "15 1.94418081214e+14\n"
     ]
    }
   ],
   "source": [
    "rss_all = np.zeros(15)\n",
    "for k in range(1,16):\n",
    "    predictions_k = predict_value(k, features_train, output_train, features_test[0])\n",
    "    rss_all[k-1] = np.sum((predictions_k-output_valid)**2)\n",
    "    print k,rss_all[k-1]"
   ]
  },
  {
   "cell_type": "markdown",
   "metadata": {
    "collapsed": false
   },
   "source": [
    "To visualize the performance as a function of `k`, plot the RSS on the VALIDATION set for each considered `k` value:"
   ]
  },
  {
   "cell_type": "code",
   "execution_count": 42,
   "metadata": {
    "collapsed": false
   },
   "outputs": [
    {
     "data": {
      "text/plain": [
       "[<matplotlib.lines.Line2D at 0x20cffe80>]"
      ]
     },
     "execution_count": 42,
     "metadata": {},
     "output_type": "execute_result"
    },
    {
     "data": {
      "image/png": "[encoded data removed]",
      "text/plain": [
       "<matplotlib.figure.Figure at 0x167bfe48>"
      ]
     },
     "metadata": {},
     "output_type": "display_data"
    }
   ],
   "source": [
    "kvals = range(1, 16)\n",
    "plt.plot(kvals, rss_all,'bo-')"
   ]
  },
  {
   "cell_type": "markdown",
   "metadata": {},
   "source": [
    "## Thank you!"
   ]
  }
 ],
 "metadata": {
  "kernelspec": {
   "display_name": "Python 2",
   "language": "python",
   "name": "python2"
  },
  "language_info": {
   "codemirror_mode": {
    "name": "ipython",
    "version": 2
   },
   "file_extension": ".py",
   "mimetype": "text/x-python",
   "name": "python",
   "nbconvert_exporter": "python",
   "pygments_lexer": "ipython2",
   "version": "2.7.13"
  }
 },
 "nbformat": 4,
 "nbformat_minor": 0
}
