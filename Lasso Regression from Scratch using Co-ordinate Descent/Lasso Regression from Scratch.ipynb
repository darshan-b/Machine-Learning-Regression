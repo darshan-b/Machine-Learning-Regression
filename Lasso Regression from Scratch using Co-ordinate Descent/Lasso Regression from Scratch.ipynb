{
 "cells": [
  {
   "cell_type": "markdown",
   "metadata": {},
   "source": [
    "# Regression LASSO (coordinate descent)"
   ]
  },
  {
   "cell_type": "code",
   "execution_count": 3,
   "metadata": {
    "collapsed": false
   },
   "outputs": [],
   "source": [
    "import graphlab\n",
    "import numpy as np"
   ]
  },
  {
   "cell_type": "markdown",
   "metadata": {},
   "source": [
    "# Load in house sales data"
   ]
  },
  {
   "cell_type": "code",
   "execution_count": 4,
   "metadata": {
    "collapsed": false
   },
   "outputs": [
    {
     "name": "stderr",
     "output_type": "stream",
     "text": [
      "[INFO] graphlab.cython.cy_server: GraphLab Create v2.1 started. Logging: C:\\Users\\Darshan\\AppData\\Local\\Temp\\graphlab_server_1486243092.log.0\n"
     ]
    },
    {
     "name": "stdout",
     "output_type": "stream",
     "text": [
      "This non-commercial license of GraphLab Create for academic use is assigned to darshanb@umd.edu and will expire on January 08, 2018.\n"
     ]
    }
   ],
   "source": [
    "# Housing sales data for King County, Seatle, WA\n",
    "sales = graphlab.SFrame('kc_house_data.gl/')\n",
    "sales['floors'] = sales['floors'].astype(int) "
   ]
  },
  {
   "cell_type": "code",
   "execution_count": 5,
   "metadata": {
    "collapsed": true
   },
   "outputs": [],
   "source": [
    "def get_numpy_data(df,features,output):\n",
    "    df['constant']=1 # A new column for the constant/intercept term\n",
    "    features=['constant']+features # Column Names\n",
    "    sframe=df[features] # Copy all the data for the selected features in the new dataframe\n",
    "    smatrix=sframe.to_numpy() # Creating a numpy array for the features\n",
    "    output_array=np.array(df[output])# Array for the ouptut/target\n",
    "    return smatrix, output_array"
   ]
  },
  {
   "cell_type": "code",
   "execution_count": 6,
   "metadata": {
    "collapsed": true
   },
   "outputs": [],
   "source": [
    "def predict_output(f, w):\n",
    "    # This fucntion will multiply the features by its weights\n",
    "    # So if there are D features, a weight is assigned to each feature\n",
    "    pred_out=np.dot(f,w)\n",
    "    return pred_out"
   ]
  },
  {
   "cell_type": "markdown",
   "metadata": {},
   "source": [
    "# Normalize features\n",
    "In the house dataset, features vary wildly in their relative magnitude: `sqft_living` is very large overall compared to `bedrooms`, for instance. As a result, weight for `sqft_living` would be much smaller than weight for `bedrooms`. This is problematic because \"small\" weights are dropped first as `l1_penalty` goes up. \n",
    "\n",
    "To give equal considerations for all features, we need to **normalize features**: we divide each feature by its 2-norm so that the transformed feature has norm 1.\n",
    "\n",
    "Let's see how we can do this normalization easily with Numpy: let us first consider a small matrix."
   ]
  },
  {
   "cell_type": "code",
   "execution_count": 7,
   "metadata": {
    "collapsed": true
   },
   "outputs": [],
   "source": [
    "def normalize_features(features):\n",
    "    #To normalize the dataset\n",
    "    norms = np.linalg.norm(features, axis=0)\n",
    "    normalized_features=features/norms\n",
    "    return (normalized_features, norms)"
   ]
  },
  {
   "cell_type": "markdown",
   "metadata": {},
   "source": [
    "# Implementing Coordinate Descent with normalized features"
   ]
  },
  {
   "cell_type": "markdown",
   "metadata": {},
   "source": [
    "We seek to obtain a sparse set of weights by minimizing the LASSO cost function\n",
    "```\n",
    "SUM[ (prediction - output)^2 ] + lambda*( |w[1]| + ... + |w[k]|).\n",
    "```\n",
    "(By convention, we do not include `w[0]` in the L1 penalty term. We never want to push the intercept to zero.)\n",
    "\n",
    "The absolute value sign makes the cost function non-differentiable, so simple gradient descent is not viable (you would need to implement a method called subgradient descent). Instead, we will use **coordinate descent**: at each iteration, we will fix all weights but weight `i` and find the value of weight `i` that minimizes the objective. That is, we look for\n",
    "```\n",
    "argmin_{w[i]} [ SUM[ (prediction - output)^2 ] + lambda*( |w[1]| + ... + |w[k]|) ]\n",
    "```\n",
    "where all weights other than `w[i]` are held to be constant. We will optimize one `w[i]` at a time, circling through the weights multiple times.  \n",
    "  1. Pick a coordinate `i`\n",
    "  2. Compute `w[i]` that minimizes the cost function `SUM[ (prediction - output)^2 ] + lambda*( |w[1]| + ... + |w[k]|)`\n",
    "  3. Repeat Steps 1 and 2 for all coordinates, multiple times"
   ]
  },
  {
   "cell_type": "markdown",
   "metadata": {},
   "source": [
    "For this notebook, we use **cyclical coordinate descent with normalized features**, where we cycle through coordinates 0 to (d-1) in order, and assume the features were normalized as discussed above. The formula for optimizing each coordinate is as follows:\n",
    "```\n",
    "       ┌ (ro[i] + lambda/2)     if ro[i] < -lambda/2\n",
    "w[i] = ├ 0                      if -lambda/2 <= ro[i] <= lambda/2\n",
    "       └ (ro[i] - lambda/2)     if ro[i] > lambda/2\n",
    "```\n",
    "where\n",
    "```\n",
    "ro[i] = SUM[ [feature_i]*(output - prediction + w[i]*[feature_i]) ].\n",
    "```\n",
    "\n",
    "Note that we do not regularize the weight of the constant feature (intercept) `w[0]`, so, for this weight, the update is simply:\n",
    "```\n",
    "w[0] = ro[i]\n",
    "```"
   ]
  },
  {
   "cell_type": "markdown",
   "metadata": {},
   "source": [
    "## Effect of L1 penalty"
   ]
  },
  {
   "cell_type": "markdown",
   "metadata": {},
   "source": [
    "Let us consider a simple model with 2 features:"
   ]
  },
  {
   "cell_type": "code",
   "execution_count": 10,
   "metadata": {
    "collapsed": true
   },
   "outputs": [],
   "source": [
    "#Initial parameters\n",
    "simple_features = ['sqft_living', 'bedrooms']\n",
    "my_output = 'price'\n",
    "weights = np.array([1., 4., 1.])\n",
    "(simple_feature_matrix, output) = get_numpy_data(sales, simple_features, my_output) # Get the features in array\n",
    "\n",
    "\n",
    "#Normailze the features\n",
    "simple_feature_matrix, norms = normalize_features(simple_feature_matrix) \n",
    "\n",
    "#Predictions\n",
    "prediction = predict_output(simple_feature_matrix,weights)"
   ]
  },
  {
   "cell_type": "markdown",
   "metadata": {},
   "source": [
    "Compute the values of `ro[i]` for each feature in this simple model, using the formula given above, using the formula:\n",
    "```\n",
    "ro[i] = SUM[ [feature_i]*(output - prediction + w[i]*[feature_i]) ]\n",
    "```"
   ]
  },
  {
   "cell_type": "code",
   "execution_count": 11,
   "metadata": {
    "collapsed": false
   },
   "outputs": [],
   "source": [
    "ro=[0,0,0]\n",
    "for i in range(len(weights)):\n",
    "    ro[i]=np.sum(np.dot(simple_feature_matrix[:,i],(output-prediction+weights[i]*simple_feature_matrix[:,i])))"
   ]
  },
  {
   "cell_type": "markdown",
   "metadata": {},
   "source": [
    "Whenever `ro[i]` falls between `-l1_penalty/2` and `l1_penalty/2`, the corresponding weight `w[i]` is sent to zero. Now suppose we were to take one step of coordinate descent on either feature 1 or feature 2. What range of values of `l1_penalty` **would not** set `w[1]` zero, but **would** set `w[2]` to zero, if we were to take a step in that coordinate? "
   ]
  },
  {
   "cell_type": "markdown",
   "metadata": {},
   "source": [
    "## Single Coordinate Descent Step"
   ]
  },
  {
   "cell_type": "markdown",
   "metadata": {},
   "source": [
    "Implement coordinate descent that minimizes the cost function over a single feature i. Note that the intercept (weight 0) is not regularized. The function should accept feature matrix, output, current weights, l1 penalty, and index of feature to optimize over. The function should return new weight for feature i."
   ]
  },
  {
   "cell_type": "code",
   "execution_count": 12,
   "metadata": {
    "collapsed": false
   },
   "outputs": [],
   "source": [
    "def lasso_coordinate_descent_step(i, feature_matrix, output, weights, l1_penalty):\n",
    "    # compute prediction\n",
    "    prediction =np.dot(feature_matrix,weights)\n",
    "    # compute ro[i] = SUM[ [feature_i]*(output - prediction + weight[i]*[feature_i]) ]\n",
    "    ro_i = np.sum(np.dot(feature_matrix[:,i],(output-prediction+weights[i]*feature_matrix[:,1])))\n",
    "    if i == 0: # intercept -- do not regularize\n",
    "        new_weight_i = ro_i \n",
    "    elif ro_i < -l1_penalty/2.:\n",
    "        new_weight_i = ro_i+l1_penalty/2.0\n",
    "    elif ro_i > l1_penalty/2.:\n",
    "        new_weight_i =ro_i-l1_penalty/2.0\n",
    "    else:\n",
    "        new_weight_i = 0.\n",
    "    \n",
    "    return new_weight_i"
   ]
  },
  {
   "cell_type": "markdown",
   "metadata": {
    "collapsed": true
   },
   "source": [
    "## Cyclical coordinate descent "
   ]
  },
  {
   "cell_type": "markdown",
   "metadata": {},
   "source": [
    "Now that we have a function that optimizes the cost function over a single coordinate, let us implement cyclical coordinate descent where we optimize coordinates 0, 1, ..., (d-1) in order and repeat.\n",
    "\n",
    "When do we know to stop? Each time we scan all the coordinates (features) once, we measure the change in weight for each coordinate. If no coordinate changes by more than a specified threshold, we stop."
   ]
  },
  {
   "cell_type": "markdown",
   "metadata": {},
   "source": [
    "For each iteration:\n",
    "1. As you loop over features in order and perform coordinate descent, measure how much each coordinate changes.\n",
    "2. After the loop, if the maximum change across all coordinates is falls below the tolerance, stop. Otherwise, go back to step 1.\n",
    "\n",
    "Return weights\n",
    "\n",
    "**IMPORTANT: when computing a new weight for coordinate i, make sure to incorporate the new weights for coordinates 0, 1, ..., i-1. One good way is to update your weights variable in-place. See following pseudocode for illustration.**\n",
    "```\n",
    "for i in range(len(weights)):\n",
    "    old_weights_i = weights[i] # remember old value of weight[i], as it will be overwritten\n",
    "    # the following line uses new values for weight[0], weight[1], ..., weight[i-1]\n",
    "    #     and old values for weight[i], ..., weight[d-1]\n",
    "    weights[i] = lasso_coordinate_descent_step(i, feature_matrix, output, weights, l1_penalty)\n",
    "    \n",
    "    # use old_weights_i to compute change in coordinate\n",
    "    ...\n",
    "```"
   ]
  },
  {
   "cell_type": "code",
   "execution_count": 13,
   "metadata": {
    "collapsed": false
   },
   "outputs": [],
   "source": [
    "def lasso_cyclical_coordinate_descent(feature_matrix, output, initial_weights, l1_penalty, tolerance):\n",
    "    weights=initial_weights.copy()\n",
    "    flag=False\n",
    "    while not flag:\n",
    "        for i in range(len(weights)):\n",
    "            max_change=0\n",
    "            old_weights=weights[i]\n",
    "            weights[i]=lasso_coordinate_descent_step(i,feature_matrix,output,weights,l1_penalty)\n",
    "            if (np.abs(old_weights-weights[i])<tolerance):\n",
    "                flag=True\n",
    "            else:\n",
    "                max_change=np.abs(old_weights-weights[i])\n",
    "    return weights"
   ]
  },
  {
   "cell_type": "markdown",
   "metadata": {},
   "source": [
    "Using the following parameters, learn the weights on the sales dataset. "
   ]
  },
  {
   "cell_type": "code",
   "execution_count": 14,
   "metadata": {
    "collapsed": false
   },
   "outputs": [],
   "source": [
    "# Sample regression with sqft_living and bedrooms as features and price as targets\n",
    "simple_features = ['sqft_living', 'bedrooms']\n",
    "my_output = 'price'\n",
    "\n",
    "#Intial parameters\n",
    "initial_weights = np.zeros(3)\n",
    "l1_penalty = 1e7\n",
    "tolerance = 1.0\n",
    "\n",
    "(simple_feature_matrix, output) = get_numpy_data(sales, simple_features, my_output)# Get the features in array\n",
    "\n",
    "(normalized_simple_feature_matrix, simple_norms) = normalize_features(simple_feature_matrix) # normalize features"
   ]
  },
  {
   "cell_type": "code",
   "execution_count": 19,
   "metadata": {
    "collapsed": false
   },
   "outputs": [
    {
     "name": "stdout",
     "output_type": "stream",
     "text": [
      "The constant term is  50994436.9598\n",
      "The coefficient of sqft_living is: 36290522.5719\n",
      "The co-efficient of bedrooms is: 0.0\n"
     ]
    }
   ],
   "source": [
    "weights = lasso_cyclical_coordinate_descent(normalized_simple_feature_matrix, output,\n",
    "                                            initial_weights, l1_penalty, tolerance)\n",
    "print \"The constant term is \", weights[0]\n",
    "print \"The coefficient of sqft_living is:\",weights[1]\n",
    "print \"The co-efficient of bedrooms is:\", weights[2]"
   ]
  },
  {
   "cell_type": "code",
   "execution_count": 23,
   "metadata": {
    "collapsed": false
   },
   "outputs": [
    {
     "name": "stdout",
     "output_type": "stream",
     "text": [
      "The RSS of the model is: 2.03990281919e+15\n"
     ]
    }
   ],
   "source": [
    "predictions = predict_output(normalized_simple_feature_matrix, weights) # Predict the output\n",
    "rss=np.sum(np.square(predictions-output)) # Calculate the RSS\n",
    "print \"The RSS of the model is:\",(rss)"
   ]
  },
  {
   "cell_type": "markdown",
   "metadata": {},
   "source": [
    "# Evaluating LASSO fit with more features"
   ]
  },
  {
   "cell_type": "markdown",
   "metadata": {},
   "source": [
    "Let us split the sales dataset into training and test sets."
   ]
  },
  {
   "cell_type": "code",
   "execution_count": 24,
   "metadata": {
    "collapsed": true
   },
   "outputs": [],
   "source": [
    "train_data,test_data = sales.random_split(.8,seed=0)"
   ]
  },
  {
   "cell_type": "markdown",
   "metadata": {},
   "source": [
    "Let us consider the following set of features."
   ]
  },
  {
   "cell_type": "code",
   "execution_count": 25,
   "metadata": {
    "collapsed": true
   },
   "outputs": [],
   "source": [
    "all_features = ['bedrooms',\n",
    "                'bathrooms',\n",
    "                'sqft_living',\n",
    "                'sqft_lot',\n",
    "                'floors',\n",
    "                'waterfront', \n",
    "                'view', \n",
    "                'condition', \n",
    "                'grade',\n",
    "                'sqft_above',\n",
    "                'sqft_basement',\n",
    "                'yr_built', \n",
    "                'yr_renovated']"
   ]
  },
  {
   "cell_type": "code",
   "execution_count": 26,
   "metadata": {
    "collapsed": false
   },
   "outputs": [],
   "source": [
    "(multiple_feature_matrix, output) = get_numpy_data(train_data, all_features,  my_output) # Get the features in array\n",
    "\n",
    "(normalized_multiple_feature_matrix,multiple_norms) = normalize_features(multiple_feature_matrix) # normalize features"
   ]
  },
  {
   "cell_type": "code",
   "execution_count": 37,
   "metadata": {
    "collapsed": false
   },
   "outputs": [
    {
     "name": "stdout",
     "output_type": "stream",
     "text": [
      "The co-efficient for constant term is 71114625.7528\n",
      "The co-efficient for bedrooms is 0.0\n",
      "The co-efficient for bathrooms is 3743972.43192\n",
      "The co-efficient for sqft_living is 5271064.34696\n",
      "The co-efficient for sqft_lot is 0.0\n",
      "The co-efficient for floors is 0.0\n",
      "The co-efficient for waterfront is 7173100.28481\n",
      "The co-efficient for view is 7025132.06643\n",
      "The co-efficient for condition is -5530804.65692\n",
      "The co-efficient for grade is 0.0\n",
      "The co-efficient for sqft_above is 394565.584395\n",
      "The co-efficient for sqft_basement is 2242690.39485\n",
      "The co-efficient for yr_built is -2160960.47386\n",
      "The co-efficient for yr_renovated is 0.0\n"
     ]
    }
   ],
   "source": [
    "#Inital parameters\n",
    "init=np.array(np.zeros(14))\n",
    "weights1e7 = lasso_cyclical_coordinate_descent(normalized_multiple_feature_matrix,output,\n",
    "                                            init, 1e7, 1)\n",
    "for i in range(len(all_features)+1):\n",
    "    if i==0:\n",
    "        print \"The co-efficient for constant term is\", weights1e7[i]\n",
    "    else:\n",
    "        print \"The co-efficient for\",all_features[i-1],\"is\" ,weights1e7[i]"
   ]
  },
  {
   "cell_type": "markdown",
   "metadata": {
    "collapsed": true
   },
   "source": [
    "Next, learn the weights with `l1_penalty=1e8`, on the training data. Initialize weights to all zeros, and set the `tolerance=1`.  Call resulting weights `weights1e8`, you will need them later."
   ]
  },
  {
   "cell_type": "code",
   "execution_count": 39,
   "metadata": {
    "collapsed": false
   },
   "outputs": [
    {
     "name": "stdout",
     "output_type": "stream",
     "text": [
      "The co-efficient for constant term is 71114625.7528\n",
      "The co-efficient for bedrooms is 0.0\n",
      "The co-efficient for bathrooms is 0.0\n",
      "The co-efficient for sqft_living is 0.0\n",
      "The co-efficient for sqft_lot is 0.0\n",
      "The co-efficient for floors is 0.0\n",
      "The co-efficient for waterfront is 0.0\n",
      "The co-efficient for view is 0.0\n",
      "The co-efficient for condition is 0.0\n",
      "The co-efficient for grade is 0.0\n",
      "The co-efficient for sqft_above is 0.0\n",
      "The co-efficient for sqft_basement is 0.0\n",
      "The co-efficient for yr_built is 0.0\n",
      "The co-efficient for yr_renovated is 0.0\n"
     ]
    }
   ],
   "source": [
    "#Inital parameters\n",
    "init=np.array(np.zeros(14))\n",
    "weights1e8 = lasso_cyclical_coordinate_descent(normalized_multiple_feature_matrix,output,\n",
    "                                            init, 1e8, 1)\n",
    "for i in range(len(all_features)+1):\n",
    "    if i==0:\n",
    "        print \"The co-efficient for constant term is\", weights1e8[i]\n",
    "    else:\n",
    "        print \"The co-efficient for\",all_features[i-1],\"is\" ,weights1e8[i]"
   ]
  },
  {
   "cell_type": "code",
   "execution_count": 43,
   "metadata": {
    "collapsed": false,
    "scrolled": true
   },
   "outputs": [
    {
     "name": "stdout",
     "output_type": "stream",
     "text": [
      "The co-efficient for constant term is -4219567.74696\n",
      "The co-efficient for bedrooms is -11355341.9608\n",
      "The co-efficient for bathrooms is 11709571.1771\n",
      "The co-efficient for sqft_living is 33240203.2092\n",
      "The co-efficient for sqft_lot is -474676.536084\n",
      "The co-efficient for floors is -1779154.46793\n",
      "The co-efficient for waterfront is 4085908.96158\n",
      "The co-efficient for view is 5426533.38329\n",
      "The co-efficient for condition is 3999062.16521\n",
      "The co-efficient for grade is 26920741.2065\n",
      "The co-efficient for sqft_above is 20802789.2176\n",
      "The co-efficient for sqft_basement is 5478519.62255\n",
      "The co-efficient for yr_built is -7895142.85166\n",
      "The co-efficient for yr_renovated is 2035348.78783\n"
     ]
    }
   ],
   "source": [
    "#Intialize the parameters\n",
    "init=np.array(np.zeros(14))\n",
    "weights1e4 = lasso_cyclical_coordinate_descent(normalized_multiple_feature_matrix,output,\n",
    "                                            init, 1e4, 1)\n",
    "\n",
    "for i in range(len(all_features)+1):\n",
    "    if i==0:\n",
    "        print \"The co-efficient for constant term is\", weights1e4[i]\n",
    "    else:\n",
    "        print \"The co-efficient for\",all_features[i-1],\"is\" ,weights1e4[i]\n"
   ]
  },
  {
   "cell_type": "markdown",
   "metadata": {},
   "source": [
    "## Thank You!"
   ]
  }
 ],
 "metadata": {
  "kernelspec": {
   "display_name": "Python 2",
   "language": "python",
   "name": "python2"
  },
  "language_info": {
   "codemirror_mode": {
    "name": "ipython",
    "version": 2
   },
   "file_extension": ".py",
   "mimetype": "text/x-python",
   "name": "python",
   "nbconvert_exporter": "python",
   "pygments_lexer": "ipython2",
   "version": "2.7.13"
  }
 },
 "nbformat": 4,
 "nbformat_minor": 0
}
