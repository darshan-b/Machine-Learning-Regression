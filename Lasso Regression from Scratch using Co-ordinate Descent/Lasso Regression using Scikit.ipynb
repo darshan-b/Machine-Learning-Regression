{
 "cells": [
  {
   "cell_type": "code",
   "execution_count": 1,
   "metadata": {
    "collapsed": true
   },
   "outputs": [],
   "source": [
    "#Import libraries\n",
    "import pandas as pd\n",
    "\n",
    "dtype_dict = {'bathrooms':float, 'waterfront':int, 'sqft_above':int, 'sqft_living15':float, 'grade':int, \n",
    "              'yr_renovated':int, 'price':float, 'bedrooms':float, 'zipcode':str, 'long':float, 'sqft_lot15':float, \n",
    "              'sqft_living':float, 'floors':float, 'condition':int, 'lat':float, 'date':str, 'sqft_basement':int, \n",
    "              'yr_built':int, 'id':str, 'sqft_lot':int, 'view':int}\n",
    "\n",
    "sales = pd.read_csv('kc_house_data.csv', dtype=dtype_dict)"
   ]
  },
  {
   "cell_type": "code",
   "execution_count": 2,
   "metadata": {
    "collapsed": true
   },
   "outputs": [],
   "source": [
    "# Create new features\n",
    "from math import log, sqrt\n",
    "sales['sqft_living_sqrt'] = sales['sqft_living'].apply(sqrt)\n",
    "sales['sqft_lot_sqrt'] = sales['sqft_lot'].apply(sqrt)\n",
    "sales['bedrooms_square'] = sales['bedrooms']*sales['bedrooms']\n",
    "sales['floors_square'] = sales['floors']*sales['floors']"
   ]
  },
  {
   "cell_type": "code",
   "execution_count": 3,
   "metadata": {
    "collapsed": false
   },
   "outputs": [
    {
     "data": {
      "text/plain": [
       "Lasso(alpha=500.0, copy_X=True, fit_intercept=True, max_iter=1000,\n",
       "   normalize=True, positive=False, precompute=False, random_state=None,\n",
       "   selection='cyclic', tol=0.0001, warm_start=False)"
      ]
     },
     "execution_count": 3,
     "metadata": {},
     "output_type": "execute_result"
    }
   ],
   "source": [
    "from sklearn import linear_model  # using scikit-learn\n",
    "\n",
    "all_features = ['bedrooms',         'bedrooms_square',  'bathrooms',     'sqft_living', \n",
    "                'sqft_living_sqrt', 'sqft_lot',         'sqft_lot_sqrt', 'floors', \n",
    "                'floors_square',    'waterfront',       'view',          'condition', \n",
    "                'grade',            'sqft_above',       'sqft_basement', 'yr_built', \n",
    "                'yr_renovated']\n",
    "\n",
    "model_all = linear_model.Lasso(alpha=5e2, normalize=True) # set parameters\n",
    "model_all.fit(sales[all_features], sales['price']) # learn weights"
   ]
  },
  {
   "cell_type": "code",
   "execution_count": 6,
   "metadata": {
    "collapsed": true
   },
   "outputs": [],
   "source": [
    "#Creating testing, training and validation data\n",
    "testing = pd.read_csv('wk3_kc_house_test_data.csv', dtype=dtype_dict)\n",
    "training = pd.read_csv('wk3_kc_house_train_data.csv', dtype=dtype_dict)\n",
    "validation = pd.read_csv('wk3_kc_house_valid_data.csv', dtype=dtype_dict)"
   ]
  },
  {
   "cell_type": "code",
   "execution_count": 7,
   "metadata": {
    "collapsed": true
   },
   "outputs": [],
   "source": [
    "# Creating new features in the the testing, training and validation data set\n",
    "testing['sqft_living_sqrt'] = testing['sqft_living'].apply(sqrt)\n",
    "testing['sqft_lot_sqrt'] = testing['sqft_lot'].apply(sqrt)\n",
    "testing['bedrooms_square'] = testing['bedrooms']*testing['bedrooms']\n",
    "testing['floors_square'] = testing['floors']*testing['floors']\n",
    "\n",
    "training['sqft_living_sqrt'] = training['sqft_living'].apply(sqrt)\n",
    "training['sqft_lot_sqrt'] = training['sqft_lot'].apply(sqrt)\n",
    "training['bedrooms_square'] = training['bedrooms']*training['bedrooms']\n",
    "training['floors_square'] = training['floors']*training['floors']\n",
    "\n",
    "validation['sqft_living_sqrt'] = validation['sqft_living'].apply(sqrt)\n",
    "validation['sqft_lot_sqrt'] = validation['sqft_lot'].apply(sqrt)\n",
    "validation['bedrooms_square'] = validation['bedrooms']*validation['bedrooms']\n",
    "validation['floors_square'] = validation['floors']*validation['floors']"
   ]
  },
  {
   "cell_type": "code",
   "execution_count": 9,
   "metadata": {
    "collapsed": false
   },
   "outputs": [],
   "source": [
    "import numpy as np\n",
    "col=training.columns.tolist()"
   ]
  },
  {
   "cell_type": "code",
   "execution_count": 14,
   "metadata": {
    "collapsed": false
   },
   "outputs": [
    {
     "name": "stdout",
     "output_type": "stream",
     "text": [
      "The RSS for l1_penalty of  1.0 is 3.982133e+14  and the number of non zero elements is 15\n",
      "The RSS for l1_penalty of  1.5 is 3.990419e+14  and the number of non zero elements is 15\n",
      "The RSS for l1_penalty of  2.0 is 4.297916e+14  and the number of non zero elements is 11\n",
      "The RSS for l1_penalty of  2.5 is 4.637398e+14  and the number of non zero elements is 6\n",
      "The RSS for l1_penalty of  3.0 is 6.458987e+14  and the number of non zero elements is 4\n",
      "The RSS for l1_penalty of  3.5 is 1.222507e+15  and the number of non zero elements is 1\n",
      "The RSS for l1_penalty of  4.0 is 1.222507e+15  and the number of non zero elements is 1\n",
      "The RSS for l1_penalty of  4.5 is 1.222507e+15  and the number of non zero elements is 1\n",
      "The RSS for l1_penalty of  5.0 is 1.222507e+15  and the number of non zero elements is 1\n",
      "The RSS for l1_penalty of  5.5 is 1.222507e+15  and the number of non zero elements is 1\n",
      "The RSS for l1_penalty of  6.0 is 1.222507e+15  and the number of non zero elements is 1\n",
      "The RSS for l1_penalty of  6.5 is 1.222507e+15  and the number of non zero elements is 1\n",
      "The RSS for l1_penalty of  7.0 is 1.222507e+15  and the number of non zero elements is 1\n"
     ]
    }
   ],
   "source": [
    "a=validation['price']\n",
    "for l1 in np.logspace(1,7,num=13):\n",
    "    model = linear_model.Lasso(alpha=l1, normalize=True)\n",
    "    model.fit(training[all_features],training['price'])\n",
    "    model_non_zero = np.count_nonzero(model.coef_) + np.count_nonzero(model.intercept_)\n",
    "    print \"The RSS for l1_penalty of \",np.log10(l1),\"is\", '%3e' %np.sum((model.predict(validation[all_features])-a)**2),\" and the number of non zero elements is\", model_non_zero\n"
   ]
  },
  {
   "cell_type": "code",
   "execution_count": 21,
   "metadata": {
    "collapsed": false
   },
   "outputs": [
    {
     "name": "stdout",
     "output_type": "stream",
     "text": [
      "('The l1 penalty is', '1.00', ' and the number of nonzero features is', 15)\n",
      "('The l1 penalty is', '1.16', ' and the number of nonzero features is', 15)\n",
      "('The l1 penalty is', '1.32', ' and the number of nonzero features is', 15)\n",
      "('The l1 penalty is', '1.47', ' and the number of nonzero features is', 15)\n",
      "('The l1 penalty is', '1.63', ' and the number of nonzero features is', 13)\n",
      "('The l1 penalty is', '1.79', ' and the number of nonzero features is', 12)\n",
      "('The l1 penalty is', '1.95', ' and the number of nonzero features is', 11)\n",
      "('The l1 penalty is', '2.11', ' and the number of nonzero features is', 10)\n",
      "('The l1 penalty is', '2.26', ' and the number of nonzero features is', 7)\n",
      "('The l1 penalty is', '2.42', ' and the number of nonzero features is', 6)\n",
      "('The l1 penalty is', '2.58', ' and the number of nonzero features is', 6)\n",
      "('The l1 penalty is', '2.74', ' and the number of nonzero features is', 6)\n",
      "('The l1 penalty is', '2.89', ' and the number of nonzero features is', 5)\n",
      "('The l1 penalty is', '3.05', ' and the number of nonzero features is', 3)\n",
      "('The l1 penalty is', '3.21', ' and the number of nonzero features is', 3)\n",
      "('The l1 penalty is', '3.37', ' and the number of nonzero features is', 2)\n",
      "('The l1 penalty is', '3.53', ' and the number of nonzero features is', 1)\n",
      "('The l1 penalty is', '3.68', ' and the number of nonzero features is', 1)\n",
      "('The l1 penalty is', '3.84', ' and the number of nonzero features is', 1)\n",
      "('The l1 penalty is', '4.00', ' and the number of nonzero features is', 1)\n"
     ]
    }
   ],
   "source": [
    "# Lets say that max non zero elements that are allowed are 7, then find the max and min l1_penalty\n",
    "max_non_zeors=7\n",
    "for l1 in np.logspace(1,4,num=20):\n",
    "    model = linear_model.Lasso(alpha=l1, normalize=True)\n",
    "    model.fit(training[all_features],training['price'])\n",
    "    model_non_zero=np.count_nonzero(model.coef_) + np.count_nonzero(model.intercept_)\n",
    "    print(\"The l1 penalty is\",'%.2f' %np.log10(l1),\" and the number of nonzero features is\",model_non_zero)"
   ]
  },
  {
   "cell_type": "code",
   "execution_count": 22,
   "metadata": {
    "collapsed": true
   },
   "outputs": [],
   "source": [
    "l1_penalty_max=263.665\n",
    "l1_penalty_min=127.43"
   ]
  },
  {
   "cell_type": "code",
   "execution_count": 78,
   "metadata": {
    "collapsed": false
   },
   "outputs": [
    {
     "name": "stdout",
     "output_type": "stream",
     "text": [
      "('156.111053', '440037559545219.937500')\n",
      "[ -0.00000000e+00  -0.00000000e+00   1.06104786e+04   1.63380381e+02\n",
      "   0.00000000e+00  -0.00000000e+00  -0.00000000e+00   0.00000000e+00\n",
      "   0.00000000e+00   5.06450129e+05   4.19600103e+04   0.00000000e+00\n",
      "   1.16253349e+05   0.00000000e+00   0.00000000e+00  -2.61222063e+03\n",
      "   0.00000000e+00]\n",
      "('163.281316', '440777683505084.625000')\n",
      "[ -0.00000000e+00  -0.00000000e+00   9.08361305e+03   1.63867800e+02\n",
      "   0.00000000e+00  -0.00000000e+00  -0.00000000e+00   0.00000000e+00\n",
      "   0.00000000e+00   5.00733892e+05   4.18391373e+04   0.00000000e+00\n",
      "   1.15501757e+05   0.00000000e+00   0.00000000e+00  -2.55984090e+03\n",
      "   0.00000000e+00]\n",
      "('170.451579', '441566889269266.937500')\n",
      "[ -0.00000000e+00  -0.00000000e+00   7.56688736e+03   1.64348679e+02\n",
      "   0.00000000e+00  -0.00000000e+00  -0.00000000e+00   0.00000000e+00\n",
      "   0.00000000e+00   4.95019291e+05   4.17175748e+04   0.00000000e+00\n",
      "   1.14751342e+05   0.00000000e+00   0.00000000e+00  -2.50755056e+03\n",
      "   0.00000000e+00]\n",
      "('177.621842', '442406599764579.437500')\n",
      "[ -0.00000000e+00  -0.00000000e+00   6.05037036e+03   1.64829423e+02\n",
      "   0.00000000e+00  -0.00000000e+00  -0.00000000e+00   0.00000000e+00\n",
      "   0.00000000e+00   4.89304709e+05   4.15960005e+04   0.00000000e+00\n",
      "   1.14000949e+05   0.00000000e+00   0.00000000e+00  -2.45526200e+03\n",
      "   0.00000000e+00]\n",
      "('184.792105', '443296896965941.562500')\n",
      "[ -0.00000000e+00  -0.00000000e+00   4.53356138e+03   1.65310356e+02\n",
      "   0.00000000e+00  -0.00000000e+00  -0.00000000e+00   0.00000000e+00\n",
      "   0.00000000e+00   4.83590070e+05   4.14744474e+04   0.00000000e+00\n",
      "   1.13250521e+05   0.00000000e+00   0.00000000e+00  -2.40297085e+03\n",
      "   0.00000000e+00]\n",
      "('191.962368', '444239952126744.312500')\n",
      "[ -0.00000000e+00  -0.00000000e+00   3.00441262e+03   1.65799221e+02\n",
      "   0.00000000e+00  -0.00000000e+00  -0.00000000e+00   0.00000000e+00\n",
      "   0.00000000e+00   4.77873566e+05   4.13537147e+04   0.00000000e+00\n",
      "   1.12498692e+05   0.00000000e+00   0.00000000e+00  -2.35057124e+03\n",
      "   0.00000000e+00]\n",
      "('199.132632', '445230901007526.500000')\n",
      "[ -0.00000000e+00  -0.00000000e+00   1.49034866e+03   1.66278388e+02\n",
      "   0.00000000e+00  -0.00000000e+00  -0.00000000e+00   0.00000000e+00\n",
      "   0.00000000e+00   4.72159436e+05   4.12319648e+04   0.00000000e+00\n",
      "   1.11748590e+05   0.00000000e+00   0.00000000e+00  -2.29830450e+03\n",
      "   0.00000000e+00]\n"
     ]
    }
   ],
   "source": [
    "a=validation['price']\n",
    "for l1 in np.linspace(l1_penalty_min,l1_penalty_max,num=20):\n",
    "    model = linear_model.Lasso(alpha=l1, normalize=True)\n",
    "    model.fit(training[all_features],training['price'])\n",
    "    model_non_zero=np.count_nonzero(model.coef_) + np.count_nonzero(model.intercept_)\n",
    "    if model_non_zero==7:\n",
    "        print('%8f' %(l1),'%12f' %np.sum(np.square(model.predict(validation[all_features])-a)))\n",
    "        print(model.coef_)\n",
    "        "
   ]
  },
  {
   "cell_type": "markdown",
   "metadata": {
    "collapsed": true
   },
   "source": [
    "## Thank You!"
   ]
  }
 ],
 "metadata": {
  "kernelspec": {
   "display_name": "Python 2",
   "language": "python",
   "name": "python2"
  },
  "language_info": {
   "codemirror_mode": {
    "name": "ipython",
    "version": 2
   },
   "file_extension": ".py",
   "mimetype": "text/x-python",
   "name": "python",
   "nbconvert_exporter": "python",
   "pygments_lexer": "ipython2",
   "version": "2.7.13"
  }
 },
 "nbformat": 4,
 "nbformat_minor": 0
}
