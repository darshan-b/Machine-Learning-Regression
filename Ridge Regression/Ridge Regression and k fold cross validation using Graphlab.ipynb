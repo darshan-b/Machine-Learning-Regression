{
 "cells": [
  {
   "cell_type": "markdown",
   "metadata": {},
   "source": [
    "# Regression Week 4: Ridge Regression (interpretation)"
   ]
  },
  {
   "cell_type": "code",
   "execution_count": 32,
   "metadata": {
    "collapsed": false
   },
   "outputs": [],
   "source": [
    "import graphlab\n",
    "import matplotlib.pyplot as plt\n",
    "%matplotlib inline\n",
    "import numpy as np"
   ]
  },
  {
   "cell_type": "markdown",
   "metadata": {},
   "source": [
    "# Polynomial regression, revisited"
   ]
  },
  {
   "cell_type": "code",
   "execution_count": 1,
   "metadata": {
    "collapsed": true
   },
   "outputs": [],
   "source": [
    "def polynomial_sframe(feature, degree):\n",
    "    # set poly_sframe['power_1'] equal to the passed feature\n",
    "    poly_sframe = graphlab.SFrame()\n",
    "    poly_sframe['power_1']=feature\n",
    "     # first check if degree > 1\n",
    "    if degree > 1:\n",
    "        # then loop over the remaining degrees:\n",
    "        # range usually starts at 0 and stops at the endpoint-1. We want it to start at 2 and stop at degree\n",
    "        for power in range(2, degree+1):\n",
    "            name = 'power_' + str(power)\n",
    "            poly_sframe[name]=feature.apply(lambda x: x**power)\n",
    "    return poly_sframe"
   ]
  },
  {
   "cell_type": "code",
   "execution_count": 3,
   "metadata": {
    "collapsed": false
   },
   "outputs": [
    {
     "name": "stderr",
     "output_type": "stream",
     "text": [
      "[INFO] graphlab.cython.cy_server: GraphLab Create v2.1 started. Logging: C:\\Users\\Darshan\\AppData\\Local\\Temp\\graphlab_server_1486240216.log.0\n"
     ]
    },
    {
     "name": "stdout",
     "output_type": "stream",
     "text": [
      "This non-commercial license of GraphLab Create for academic use is assigned to darshanb@umd.edu and will expire on January 08, 2018.\n"
     ]
    }
   ],
   "source": [
    "sales = graphlab.SFrame('kc_house_data.gl/') # Read the data"
   ]
  },
  {
   "cell_type": "code",
   "execution_count": 4,
   "metadata": {
    "collapsed": false
   },
   "outputs": [],
   "source": [
    "sales = sales.sort(['sqft_living','price']) # Feature and target"
   ]
  },
  {
   "cell_type": "code",
   "execution_count": 10,
   "metadata": {
    "collapsed": true
   },
   "outputs": [],
   "source": [
    "l2_small_penalty = 1e-5 # Small regularization penalty"
   ]
  },
  {
   "cell_type": "code",
   "execution_count": 20,
   "metadata": {
    "collapsed": false
   },
   "outputs": [
    {
     "name": "stdout",
     "output_type": "stream",
     "text": [
      "Co-efficients of model trained on entire dataset for the freature: sqft_living is:\n",
      "+-------------+-------+--------------------+--------+\n",
      "|     name    | index |       value        | stderr |\n",
      "+-------------+-------+--------------------+--------+\n",
      "| (intercept) |  None |   167924.857726    |  nan   |\n",
      "|   power_1   |  None |   103.090951289    |  nan   |\n",
      "|   power_2   |  None |   0.13460455096    |  nan   |\n",
      "|   power_3   |  None | -0.000129071363752 |  nan   |\n",
      "|   power_4   |  None | 5.18928955754e-08  |  nan   |\n",
      "|   power_5   |  None | -7.77169299595e-12 |  nan   |\n",
      "|   power_6   |  None | 1.71144842837e-16  |  nan   |\n",
      "|   power_7   |  None | 4.51177958161e-20  |  nan   |\n",
      "|   power_8   |  None | -4.78839816249e-25 |  nan   |\n",
      "|   power_9   |  None | -2.33343499941e-28 |  nan   |\n",
      "|   power_10  |  None | -7.29022428496e-33 |  nan   |\n",
      "|   power_11  |  None | 7.22829146954e-37  |  nan   |\n",
      "|   power_12  |  None |  6.9047076722e-41  |  nan   |\n",
      "|   power_13  |  None | -3.65843768148e-46 |  nan   |\n",
      "|   power_14  |  None | -3.79575941941e-49 |  nan   |\n",
      "|   power_15  |  None |  1.1372314991e-53  |  nan   |\n",
      "+-------------+-------+--------------------+--------+\n",
      "[16 rows x 4 columns]\n",
      "\n"
     ]
    }
   ],
   "source": [
    "poly15_data = polynomial_sframe(sales['sqft_living'], 15)\n",
    "my_features = poly15_data.column_names() # get the name of the features\n",
    "poly15_data['price'] = sales['price'] # add price to the data since it's the target\n",
    "\n",
    "#Run Linear Regression\n",
    "model15 = graphlab.linear_regression.create(poly15_data, target = 'price', features = my_features,\n",
    "                                            validation_set = None,l2_penalty=l2_small_penalty,verbose=False)\n",
    "\n",
    "print \"Co-efficients of model trained on entire dataset for the freature: sqft_living is:\\n\", \n",
    "(model15.get('coefficients')).print_rows(num_rows=16)"
   ]
  },
  {
   "cell_type": "markdown",
   "metadata": {},
   "source": [
    "# Observe overfitting"
   ]
  },
  {
   "cell_type": "markdown",
   "metadata": {},
   "source": [
    "Split the data into split the sales data into four subsets of roughly equal size and call them `set_1`, `set_2`, `set_3`, and `set_4`. Use `.random_split` function and make sure you set `seed=0`. "
   ]
  },
  {
   "cell_type": "code",
   "execution_count": 18,
   "metadata": {
    "collapsed": true
   },
   "outputs": [],
   "source": [
    "(semi_split1, semi_split2) = sales.random_split(.5,seed=0)\n",
    "(set_1, set_2) = semi_split1.random_split(0.5, seed=0)\n",
    "(set_3, set_4) = semi_split2.random_split(0.5, seed=0)"
   ]
  },
  {
   "cell_type": "code",
   "execution_count": 19,
   "metadata": {
    "collapsed": false
   },
   "outputs": [
    {
     "name": "stdout",
     "output_type": "stream",
     "text": [
      "Co-efficients of model trained on set_1 subset for the freature: sqft_living is:\n",
      "+-------------+-------+--------------------+-------------------+\n",
      "|     name    | index |       value        |       stderr      |\n",
      "+-------------+-------+--------------------+-------------------+\n",
      "| (intercept) |  None |   9306.46397814    |   835063.417729   |\n",
      "|   power_1   |  None |    585.86581347    |   3484.52405144   |\n",
      "|   power_2   |  None |  -0.397305884724   |   5.85325120701   |\n",
      "|   power_3   |  None | 0.000141470894825  |  0.00510563501632 |\n",
      "|   power_4   |  None | -1.52945974394e-08 | 2.39686540035e-06 |\n",
      "|   power_5   |  None | -3.79756526062e-13 | 3.43613043735e-10 |\n",
      "|   power_6   |  None |  5.9748184732e-17  |        nan        |\n",
      "|   power_7   |  None | 1.06888505979e-20  |        nan        |\n",
      "|   power_8   |  None | 1.59344052349e-25  |        nan        |\n",
      "|   power_9   |  None | -6.9283495515e-29  | 3.72130313789e-25 |\n",
      "|   power_10  |  None | -6.83813368045e-33 |        nan        |\n",
      "|   power_11  |  None | -1.62686203908e-37 |        nan        |\n",
      "|   power_12  |  None | 2.85118784287e-41  |        nan        |\n",
      "|   power_13  |  None | 3.79998146917e-45  |        nan        |\n",
      "|   power_14  |  None | 1.52652617058e-49  |        nan        |\n",
      "|   power_15  |  None | -2.33807310252e-53 |        nan        |\n",
      "+-------------+-------+--------------------+-------------------+\n",
      "[16 rows x 4 columns]\n",
      "\n"
     ]
    }
   ],
   "source": [
    "# Run a linear regression on sqft_living for a 15th order polynomial \n",
    "set_1_data = polynomial_sframe(set_1['sqft_living'], 15)\n",
    "my_features = set_1_data.column_names()\n",
    "set_1_data['price'] = set_1['price'] \n",
    "model_set_1 = graphlab.linear_regression.create(set_1_data, target = 'price', features = my_features,\n",
    "                                            validation_set = None,l2_penalty=l2_small_penalty,verbose=False)\n",
    "print \"Co-efficients of model trained on set_1 subset for the freature: sqft_living is:\\n\", \n",
    "model_set_1.get('coefficients').print_rows(num_rows=16)"
   ]
  },
  {
   "cell_type": "code",
   "execution_count": 21,
   "metadata": {
    "collapsed": false,
    "scrolled": false
   },
   "outputs": [
    {
     "name": "stdout",
     "output_type": "stream",
     "text": [
      "Co-efficients of model trained on set_2 subset for the freature: sqft_living is:\n",
      "+-------------+-------+--------------------+-------------------+\n",
      "|     name    | index |       value        |       stderr      |\n",
      "+-------------+-------+--------------------+-------------------+\n",
      "| (intercept) |  None |   -25115.9059869   |   1675771.52039   |\n",
      "|   power_1   |  None |   783.493802508    |   9984.85507514   |\n",
      "|   power_2   |  None |  -0.767759300173   |   25.2592296765   |\n",
      "|   power_3   |  None | 0.000438766361934  |  0.0358329790553  |\n",
      "|   power_4   |  None | -1.15169161152e-07 | 3.17792630727e-05 |\n",
      "|   power_5   |  None | 6.84281148707e-12  | 1.85840552557e-08 |\n",
      "|   power_6   |  None |  2.5119522464e-15  | 7.34916239474e-12 |\n",
      "|   power_7   |  None | -2.06440624344e-19 | 1.97638603378e-15 |\n",
      "|   power_8   |  None | -4.59673058828e-23 | 3.56090427394e-19 |\n",
      "|   power_9   |  None | -2.71277342492e-29 | 3.98355514126e-23 |\n",
      "|   power_10  |  None | 6.21818505057e-31  |        nan        |\n",
      "|   power_11  |  None | 6.51741311744e-35  |        nan        |\n",
      "|   power_12  |  None | -9.41316275987e-40 |        nan        |\n",
      "|   power_13  |  None | -1.02421363129e-42 | 8.49537503286e-40 |\n",
      "|   power_14  |  None | -1.00391099753e-46 | 2.51625896537e-43 |\n",
      "|   power_15  |  None | 1.30113366848e-50  | 7.11526974919e-48 |\n",
      "+-------------+-------+--------------------+-------------------+\n",
      "[16 rows x 4 columns]\n",
      "\n"
     ]
    }
   ],
   "source": [
    "# Run a linear regression on sqft_living for a 15th order polynomial \n",
    "set_2_data = polynomial_sframe(set_2['sqft_living'], 15)\n",
    "my_features = set_2_data.column_names()\n",
    "set_2_data['price'] = set_2['price'] \n",
    "model_set_2 = graphlab.linear_regression.create(set_2_data, target = 'price', features = my_features,\n",
    "                                            validation_set = None,l2_penalty=l2_small_penalty,verbose=False)\n",
    "print \"Co-efficients of model trained on set_2 subset for the freature: sqft_living is:\\n\", \n",
    "model_set_2.get('coefficients').print_rows(num_rows=16)"
   ]
  },
  {
   "cell_type": "code",
   "execution_count": 22,
   "metadata": {
    "collapsed": false
   },
   "outputs": [
    {
     "name": "stdout",
     "output_type": "stream",
     "text": [
      "Co-efficients of model trained on set_3 subset for the freature: sqft_living is:\n",
      "+-------------+-------+--------------------+-------------------+\n",
      "|     name    | index |       value        |       stderr      |\n",
      "+-------------+-------+--------------------+-------------------+\n",
      "| (intercept) |  None |   462426.565731    |        nan        |\n",
      "|   power_1   |  None |   -759.251842854   |        nan        |\n",
      "|   power_2   |  None |    1.0286700473    |        nan        |\n",
      "|   power_3   |  None | -0.000528264527386 |        nan        |\n",
      "|   power_4   |  None | 1.15422908385e-07  |        nan        |\n",
      "|   power_5   |  None | -2.26095948062e-12 |        nan        |\n",
      "|   power_6   |  None | -2.08214287571e-15 |        nan        |\n",
      "|   power_7   |  None | 4.08770475709e-20  |        nan        |\n",
      "|   power_8   |  None |  2.570791329e-23   |        nan        |\n",
      "|   power_9   |  None | 1.24311265196e-27  |        nan        |\n",
      "|   power_10  |  None | -1.72025834939e-31 |        nan        |\n",
      "|   power_11  |  None | -2.96761071315e-35 |        nan        |\n",
      "|   power_12  |  None | -1.06574890499e-39 |  3.220399623e-36  |\n",
      "|   power_13  |  None | 2.42635621458e-43  | 3.81389828066e-40 |\n",
      "|   power_14  |  None |  3.5559876473e-47  | 9.98984759098e-45 |\n",
      "|   power_15  |  None | -2.85777468723e-51 |        nan        |\n",
      "+-------------+-------+--------------------+-------------------+\n",
      "[16 rows x 4 columns]\n",
      "\n"
     ]
    }
   ],
   "source": [
    "# Run a linear regression on sqft_living for a 15th order polynomial \n",
    "set_3_data = polynomial_sframe(set_3['sqft_living'], 15)\n",
    "my_features = set_3_data.column_names()\n",
    "set_3_data['price'] = set_3['price'] \n",
    "model_set_3 = graphlab.linear_regression.create(set_3_data, target = 'price', features = my_features,\n",
    "                                            validation_set = None,l2_penalty=l2_small_penalty,verbose=False)\n",
    "print \"Co-efficients of model trained on set_3 subset for the freature: sqft_living is:\\n\", \n",
    "model_set_3.get('coefficients').print_rows(num_rows=16)"
   ]
  },
  {
   "cell_type": "code",
   "execution_count": 23,
   "metadata": {
    "collapsed": false
   },
   "outputs": [
    {
     "name": "stdout",
     "output_type": "stream",
     "text": [
      "Co-efficients of model trained on set_4 subset for the freature: sqft_living is:\n",
      "+-------------+-------+--------------------+-------------------+\n",
      "|     name    | index |       value        |       stderr      |\n",
      "+-------------+-------+--------------------+-------------------+\n",
      "| (intercept) |  None |   -170240.034791   |   1417346.17184   |\n",
      "|   power_1   |  None |   1247.59035088    |   8978.28059127   |\n",
      "|   power_2   |  None |   -1.2246091264    |   23.6158213076   |\n",
      "|   power_3   |  None | 0.000555254626787  |  0.0340561499439  |\n",
      "|   power_4   |  None | -6.38262361929e-08 | 2.98955350115e-05 |\n",
      "|   power_5   |  None | -2.20215996475e-11 | 1.65791592065e-08 |\n",
      "|   power_6   |  None | 4.81834697594e-15  | 5.63745618764e-12 |\n",
      "|   power_7   |  None |  4.2146163248e-19  | 8.27510918329e-16 |\n",
      "|   power_8   |  None | -7.99880749051e-23 |        nan        |\n",
      "|   power_9   |  None | -1.32365907706e-26 |        nan        |\n",
      "|   power_10  |  None | 1.60197797139e-31  |  5.0301150238e-27 |\n",
      "|   power_11  |  None | 2.39904337326e-34  | 8.33599582107e-31 |\n",
      "|   power_12  |  None | 2.33354505765e-38  |        nan        |\n",
      "|   power_13  |  None | -1.79874055895e-42 |        nan        |\n",
      "|   power_14  |  None | -6.02862682894e-46 | 3.25730885866e-43 |\n",
      "|   power_15  |  None | 4.39472672531e-50  |  1.2200403476e-47 |\n",
      "+-------------+-------+--------------------+-------------------+\n",
      "[16 rows x 4 columns]\n",
      "\n"
     ]
    }
   ],
   "source": [
    "# Run a linear regression on sqft_living for a 15th order polynomial \n",
    "set_4_data = polynomial_sframe(set_4['sqft_living'], 15)\n",
    "my_features = set_4_data.column_names()\n",
    "set_4_data['price'] = set_4['price'] \n",
    "model_set_4 = graphlab.linear_regression.create(set_4_data, target = 'price', features = my_features,\n",
    "                                            validation_set = None,l2_penalty=l2_small_penalty,verbose=False)\n",
    "print \"Co-efficients of model trained on set_4 subset for the freature: sqft_living is:\\n\", \n",
    "model_set_4.get('coefficients').print_rows(num_rows=16)"
   ]
  },
  {
   "cell_type": "markdown",
   "metadata": {},
   "source": [
    "# Ridge regression comes to rescue"
   ]
  },
  {
   "cell_type": "markdown",
   "metadata": {},
   "source": [
    "Generally, whenever we see weights change so much in response to change in data, we believe the variance of our estimate to be large. Ridge regression aims to address this issue by penalizing \"large\" weights. \n",
    "\n",
    "# Now lets increase the l2 penalty"
   ]
  },
  {
   "cell_type": "code",
   "execution_count": 26,
   "metadata": {
    "collapsed": false,
    "scrolled": false
   },
   "outputs": [
    {
     "name": "stdout",
     "output_type": "stream",
     "text": [
      "\tFor high l2 penalty\n",
      "\n",
      "Co-efficients of model trained on set_1 subset for the freature: sqft_living is:\n",
      "+-------------+-------+-------------------+-------------------+\n",
      "|     name    | index |       value       |       stderr      |\n",
      "+-------------+-------+-------------------+-------------------+\n",
      "| (intercept) |  None |   530317.024516   |    1256668.1989   |\n",
      "|   power_1   |  None |   2.58738875673   |   5243.78205387   |\n",
      "|   power_2   |  None |  0.00127414400592 |   8.80842639712   |\n",
      "|   power_3   |  None | 1.74934226932e-07 |  0.00768335556793 |\n",
      "|   power_4   |  None | 1.06022119097e-11 | 3.60698895641e-06 |\n",
      "|   power_5   |  None | 5.42247604482e-16 | 5.17095558996e-10 |\n",
      "|   power_6   |  None | 2.89563828343e-20 |        nan        |\n",
      "|   power_7   |  None | 1.65000666351e-24 |        nan        |\n",
      "|   power_8   |  None | 9.86081528409e-29 |        nan        |\n",
      "|   power_9   |  None | 6.06589348254e-33 | 5.60010558786e-25 |\n",
      "|   power_10  |  None |  3.7891786887e-37 |        nan        |\n",
      "|   power_11  |  None | 2.38223121312e-41 |        nan        |\n",
      "|   power_12  |  None | 1.49847969215e-45 |        nan        |\n",
      "|   power_13  |  None | 9.39161190285e-50 |        nan        |\n",
      "|   power_14  |  None | 5.84523161981e-54 |        nan        |\n",
      "|   power_15  |  None | 3.60120207203e-58 |        nan        |\n",
      "+-------------+-------+-------------------+-------------------+\n",
      "[16 rows x 4 columns]\n",
      "\n"
     ]
    }
   ],
   "source": [
    "# Run a linear regression on sqft_living for a 15th order polynomial \n",
    "set_1_data = polynomial_sframe(set_1['sqft_living'], 15)\n",
    "my_features = set_1_data.column_names()\n",
    "set_1_data['price'] = set_1['price'] \n",
    "model_set_1 = graphlab.linear_regression.create(set_1_data, target = 'price', features = my_features,\n",
    "                                            validation_set = None,l2_penalty=1e5,verbose=False)\n",
    "print\"\\tFor high l2 penalty\\n\"\n",
    "print \"Co-efficients of model trained on set_1 subset for the freature: sqft_living is:\\n\", \n",
    "model_set_1.get('coefficients').print_rows(num_rows=16)"
   ]
  },
  {
   "cell_type": "code",
   "execution_count": 27,
   "metadata": {
    "collapsed": false,
    "scrolled": false
   },
   "outputs": [
    {
     "name": "stdout",
     "output_type": "stream",
     "text": [
      "\tFor high l2 penalty\n",
      "\n",
      "Co-efficients of model trained on set_2 subset for the freature: sqft_living is:\n",
      "+-------------+-------+-------------------+-------------------+\n",
      "|     name    | index |       value       |       stderr      |\n",
      "+-------------+-------+-------------------+-------------------+\n",
      "| (intercept) |  None |   519216.897383   |   2309581.08725   |\n",
      "|   power_1   |  None |   2.04470474182   |   13761.3225669   |\n",
      "|   power_2   |  None |  0.0011314362684  |    34.812764407   |\n",
      "|   power_3   |  None | 2.93074277549e-07 |  0.0493857126218  |\n",
      "|   power_4   |  None | 4.43540598453e-11 | 4.37988019645e-05 |\n",
      "|   power_5   |  None | 4.80849112204e-15 | 2.56129084549e-08 |\n",
      "|   power_6   |  None | 4.53091707826e-19 |  1.0128759361e-11 |\n",
      "|   power_7   |  None | 4.16042910575e-23 | 2.72389388957e-15 |\n",
      "|   power_8   |  None | 3.90094635128e-27 | 4.90770792111e-19 |\n",
      "|   power_9   |  None |  3.7773187602e-31 | 5.49021361344e-23 |\n",
      "|   power_10  |  None | 3.76650326842e-35 |        nan        |\n",
      "|   power_11  |  None | 3.84228094754e-39 |        nan        |\n",
      "|   power_12  |  None | 3.98520828414e-43 |        nan        |\n",
      "|   power_13  |  None | 4.18272762394e-47 | 1.17084920386e-39 |\n",
      "|   power_14  |  None | 4.42738332878e-51 | 3.46795732373e-43 |\n",
      "|   power_15  |  None | 4.71518245412e-55 | 9.80640394197e-48 |\n",
      "+-------------+-------+-------------------+-------------------+\n",
      "[16 rows x 4 columns]\n",
      "\n"
     ]
    }
   ],
   "source": [
    "set_2_data = polynomial_sframe(set_2['sqft_living'], 15)\n",
    "my_features = set_2_data.column_names()\n",
    "set_2_data['price'] = set_2['price'] \n",
    "model_set_2 = graphlab.linear_regression.create(set_2_data, target = 'price', features = my_features,\n",
    "                                            validation_set = None,l2_penalty=1e5,verbose=False)\n",
    "print\"\\tFor high l2 penalty\\n\"\n",
    "print \"Co-efficients of model trained on set_2 subset for the freature: sqft_living is:\\n\", \n",
    "model_set_2.get('coefficients').print_rows(num_rows=16)"
   ]
  },
  {
   "cell_type": "code",
   "execution_count": 28,
   "metadata": {
    "collapsed": false
   },
   "outputs": [
    {
     "name": "stdout",
     "output_type": "stream",
     "text": [
      "\tFor high l2 penalty\n",
      "\n",
      "Co-efficients of model trained on set_3 subset for the freature: sqft_living is:\n",
      "+-------------+-------+-------------------+-------------------+\n",
      "|     name    | index |       value       |       stderr      |\n",
      "+-------------+-------+-------------------+-------------------+\n",
      "| (intercept) |  None |   522911.518048   |        nan        |\n",
      "|   power_1   |  None |   2.26890421877   |        nan        |\n",
      "|   power_2   |  None |  0.00125905041842 |        nan        |\n",
      "|   power_3   |  None | 2.77552918155e-07 |        nan        |\n",
      "|   power_4   |  None |  3.2093309779e-11 |        nan        |\n",
      "|   power_5   |  None | 2.87573572364e-15 |        nan        |\n",
      "|   power_6   |  None | 2.50076112671e-19 |        nan        |\n",
      "|   power_7   |  None | 2.24685265906e-23 |        nan        |\n",
      "|   power_8   |  None | 2.09349983135e-27 |        nan        |\n",
      "|   power_9   |  None | 2.00435383296e-31 |        nan        |\n",
      "|   power_10  |  None | 1.95410800249e-35 |        nan        |\n",
      "|   power_11  |  None | 1.92734119456e-39 |        nan        |\n",
      "|   power_12  |  None | 1.91483699013e-43 | 4.48927924896e-36 |\n",
      "|   power_13  |  None | 1.91102277046e-47 | 5.31662415021e-40 |\n",
      "|   power_14  |  None | 1.91246242302e-51 | 1.39259783693e-44 |\n",
      "|   power_15  |  None | 1.91699558035e-55 |        nan        |\n",
      "+-------------+-------+-------------------+-------------------+\n",
      "[16 rows x 4 columns]\n",
      "\n"
     ]
    }
   ],
   "source": [
    "set_3_data = polynomial_sframe(set_3['sqft_living'], 15)\n",
    "my_features = set_3_data.column_names()\n",
    "set_3_data['price'] = set_3['price'] \n",
    "model_set_3 = graphlab.linear_regression.create(set_3_data, target = 'price', features = my_features,\n",
    "                                            validation_set = None,l2_penalty=1e5,verbose=False)\n",
    "print\"\\tFor high l2 penalty\\n\"\n",
    "print \"Co-efficients of model trained on set_3 subset for the freature: sqft_living is:\\n\", \n",
    "model_set_3.get('coefficients').print_rows(num_rows=16)"
   ]
  },
  {
   "cell_type": "code",
   "execution_count": 29,
   "metadata": {
    "collapsed": false
   },
   "outputs": [
    {
     "name": "stdout",
     "output_type": "stream",
     "text": [
      "\tFor high l2 penalty\n",
      "\n",
      "Co-efficients of model trained on set_4 subset for the freature: sqft_living is:\n",
      "+-------------+-------+-------------------+-------------------+\n",
      "|     name    | index |       value       |       stderr      |\n",
      "+-------------+-------+-------------------+-------------------+\n",
      "| (intercept) |  None |   513667.087087   |   1874267.58319   |\n",
      "|   power_1   |  None |   1.91040938244   |   11872.6819173   |\n",
      "|   power_2   |  None |  0.00110058029175 |   31.2290456676   |\n",
      "|   power_3   |  None | 3.12753987879e-07 |  0.0450351079477  |\n",
      "|   power_4   |  None | 5.50067886825e-11 | 3.95332017452e-05 |\n",
      "|   power_5   |  None | 7.20467557825e-15 | 2.19239175825e-08 |\n",
      "|   power_6   |  None | 8.24977249384e-19 | 7.45484878293e-12 |\n",
      "|   power_7   |  None | 9.06503223498e-23 | 1.09428234243e-15 |\n",
      "|   power_8   |  None | 9.95683160453e-27 |        nan        |\n",
      "|   power_9   |  None | 1.10838127982e-30 |        nan        |\n",
      "|   power_10  |  None | 1.25315224143e-34 | 6.65171410918e-27 |\n",
      "|   power_11  |  None | 1.43600781402e-38 | 1.10233385827e-30 |\n",
      "|   power_12  |  None |  1.662699678e-42  |        nan        |\n",
      "|   power_13  |  None |  1.9398172453e-46 |        nan        |\n",
      "|   power_14  |  None |  2.2754148577e-50 | 4.30739400403e-43 |\n",
      "|   power_15  |  None | 2.67948784897e-54 | 1.61335467589e-47 |\n",
      "+-------------+-------+-------------------+-------------------+\n",
      "[16 rows x 4 columns]\n",
      "\n"
     ]
    }
   ],
   "source": [
    "set_4_data = polynomial_sframe(set_4['sqft_living'], 15)\n",
    "my_features = set_4_data.column_names()\n",
    "set_4_data['price'] = set_4['price'] \n",
    "model_set_4 = graphlab.linear_regression.create(set_4_data, target = 'price', features = my_features,\n",
    "                                            validation_set = None,l2_penalty=1e5,verbose=False)\n",
    "print\"\\tFor high l2 penalty\\n\"\n",
    "print \"Co-efficients of model trained on set_4 subset for the freature: sqft_living is:\\n\", \n",
    "model_set_4.get('coefficients').print_rows(num_rows=16)"
   ]
  },
  {
   "cell_type": "markdown",
   "metadata": {},
   "source": [
    "These curves should vary a lot less, now that you applied a high degree of regularization."
   ]
  },
  {
   "cell_type": "markdown",
   "metadata": {},
   "source": [
    "# Selecting an L2 penalty via cross-validation"
   ]
  },
  {
   "cell_type": "code",
   "execution_count": 30,
   "metadata": {
    "collapsed": true
   },
   "outputs": [],
   "source": [
    "(train_valid, test) = sales.random_split(.9, seed=1) #Splitiing the data\n",
    "train_valid_shuffled = graphlab.toolkits.cross_validation.shuffle(train_valid, random_seed=1)"
   ]
  },
  {
   "cell_type": "code",
   "execution_count": 35,
   "metadata": {
    "collapsed": false
   },
   "outputs": [
    {
     "name": "stdout",
     "output_type": "stream",
     "text": [
      "The RSS of model with l2 penalty as 1000 is: 1.28780855058e+14\n"
     ]
    }
   ],
   "source": [
    "#Converting the training data for sqft living to a 15th order polynomial\n",
    "train_poly=polynomial_sframe(train_valid['sqft_living'],15)\n",
    "my_f=train_poly.column_names()\n",
    "train_poly['price']=train_valid['price']\n",
    "\n",
    "#Converting the test data for sqft living to a 15th order polynomial\n",
    "t=polynomial_sframe(test['sqft_living'],15)\n",
    "my_f1=t.column_names()\n",
    "t['price']=test['price']\n",
    "\n",
    "#Creating a Linear Regression model with l2 penalty as 1e3\n",
    "model_f=graphlab.linear_regression.create(train_poly,target='price',features=my_f,validation_set=None,l2_penalty=1000,verbose=False)\n",
    "print \"The RSS of model with l2 penalty as 1000 is:\",(np.sum(np.square(model_f.predict(t)-t['price'])))"
   ]
  },
  {
   "cell_type": "markdown",
   "metadata": {},
   "source": [
    "Now we are ready to implement k-fold cross-validation. Write a function that computes k validation errors by designating each of the k segments as the validation set. It accepts as parameters (i) `k`, (ii) `l2_penalty`, (iii) dataframe, (iv) name of output column (e.g. `price`) and (v) list of feature names. The function returns the average validation error using k segments as validation sets.\n",
    "\n",
    "* For each i in [0, 1, ..., k-1]:\n",
    "  * Compute starting and ending indices of segment i and call 'start' and 'end'\n",
    "  * Form validation set by taking a slice (start:end+1) from the data.\n",
    "  * Form training set by appending slice (end+1:n) to the end of slice (0:start).\n",
    "  * Train a linear model using training set just formed, with a given l2_penalty\n",
    "  * Compute validation error using validation set just formed"
   ]
  },
  {
   "cell_type": "code",
   "execution_count": 38,
   "metadata": {
    "collapsed": false
   },
   "outputs": [],
   "source": [
    "# Function to create a k-fold cross validation\n",
    "# Cross validation is used to select the parameters that minimize the RSS\n",
    "import numpy as np\n",
    "def k_fold_cross_validation(k, l2_penalty, data, output_name, features_list):\n",
    "    # k = number of folds that is the subsets\n",
    "    avg=0\n",
    "    n=len(data)\n",
    "    for i in range(k): \n",
    "        # Find the start and end destination of the data subset to be used for cross validation\n",
    "        start = (n*i)/k\n",
    "        end = (n*(i+1))/k - 1\n",
    "        v=data[start:end+1] # This will act as the validation set\n",
    "        f=data[0:start]\n",
    "        s=data[end+1:n]\n",
    "        t=f.append(s) #Append everything other than the validation set as training data\n",
    "        model=graphlab.linear_regression.create(t, target = output_name, features = features_list,\n",
    "                                            validation_set = None,l2_penalty=l2_penalty,verbose=False)\n",
    "        #Calculate the RSS for each validation subset\n",
    "        avg=avg+np.sum(np.square(model.predict(v)-v['price']))\n",
    "        \n",
    "    avg_validation_error=float(avg)/k #The avreage of the RSS for a given value of l2penalty\n",
    "    return avg_validation_error"
   ]
  },
  {
   "cell_type": "code",
   "execution_count": 41,
   "metadata": {
    "collapsed": false
   },
   "outputs": [
    {
     "name": "stdout",
     "output_type": "stream",
     "text": [
      "The RSS for l2_penalty of  1.0 is 4.918264e+14\n",
      "The RSS for l2_penalty of  1.5 is 2.875042e+14\n",
      "The RSS for l2_penalty of  2.0 is 1.609090e+14\n",
      "The RSS for l2_penalty of  2.5 is 1.220910e+14\n",
      "The RSS for l2_penalty of  3.0 is 1.211923e+14\n",
      "The RSS for l2_penalty of  3.5 is 1.239500e+14\n",
      "The RSS for l2_penalty of  4.0 is 1.368372e+14\n",
      "The RSS for l2_penalty of  4.5 is 1.717281e+14\n",
      "The RSS for l2_penalty of  5.0 is 2.293614e+14\n",
      "The RSS for l2_penalty of  5.5 is 2.529406e+14\n",
      "The RSS for l2_penalty of  6.0 is 2.586825e+14\n",
      "The RSS for l2_penalty of  6.5 is 2.628194e+14\n",
      "The RSS for l2_penalty of  7.0 is 2.648890e+14\n",
      "** The l2_penalty are powers of 10**\n"
     ]
    }
   ],
   "source": [
    "a=polynomial_sframe(train_valid_shuffled['sqft_living'],15) # Create a 15th order polynomial\n",
    "my_f=a.column_names()\n",
    "a['price']=train_valid_shuffled['price']\n",
    "#  Calculate the RSS for each l2_penlaty value to find the  one that minimizes the RSS on validation set\n",
    "for l2 in np.logspace(1,7,num=13):\n",
    "    print \"The RSS for l2_penalty of \",np.log10(l2),\"is\", '%3e' %k_fold_cross_validation(10,l2,a,'price',my_f)\n",
    "print \"** The l2_penalty are powers of 10**\"   "
   ]
  },
  {
   "cell_type": "code",
   "execution_count": 42,
   "metadata": {
    "collapsed": true
   },
   "outputs": [],
   "source": [
    "from sklearn.linear_model import LinearRegression,Ridge\n",
    "train=a.to_dataframe()"
   ]
  },
  {
   "cell_type": "code",
   "execution_count": 43,
   "metadata": {
    "collapsed": true
   },
   "outputs": [],
   "source": [
    "test=t.to_dataframe()"
   ]
  },
  {
   "cell_type": "code",
   "execution_count": 44,
   "metadata": {
    "collapsed": false
   },
   "outputs": [
    {
     "name": "stdout",
     "output_type": "stream",
     "text": [
      "1.27406290628e+14\n"
     ]
    }
   ],
   "source": [
    "\n",
    "# model_sk=LinearRegression()\n",
    "model_sk=Ridge(alpha=0.1,normalize=True)\n",
    "model_sk.fit(train[my_f],train['price'])\n",
    "# model_sk.predict(test[my_f])\n",
    "print(np.sum(np.square(model_sk.predict(test[my_f])-test['price'])))"
   ]
  },
  {
   "cell_type": "code",
   "execution_count": 45,
   "metadata": {
    "collapsed": false
   },
   "outputs": [],
   "source": [
    "# import numpy as np\n",
    "# def sk_fold_cross_validation(k, l2_penalty, data, output_name, features_list):\n",
    "#     avg=0\n",
    "#     n=len(data)\n",
    "#     for i in range(k):\n",
    "#         start = (n*i)/k\n",
    "#         end = (n*(i+1))/k - 1\n",
    "#         v=data[start:end+1]\n",
    "#         f=data[0:start]\n",
    "#         s=data[end+1:n]\n",
    "#         t=f.append(s)\n",
    "#         t_df=t.to_dataframe()\n",
    "#         v_df=v.to_dataframe()\n",
    "#         model_sk=Ridge(alpha=l2_penalty,normalize=True)\n",
    "#         model_sk.fit(t_df[features_list],t['price'])   \n",
    "#         avg=avg+np.sum(np.square(model_sk.predict(v_df[features_list])-v_df['price']))\n",
    "#     avg_validation_error=float(avg)/k\n",
    "#     return avg_validation_error"
   ]
  },
  {
   "cell_type": "markdown",
   "metadata": {},
   "source": [
    "## Thank You!"
   ]
  }
 ],
 "metadata": {
  "kernelspec": {
   "display_name": "Python 2",
   "language": "python",
   "name": "python2"
  },
  "language_info": {
   "codemirror_mode": {
    "name": "ipython",
    "version": 2
   },
   "file_extension": ".py",
   "mimetype": "text/x-python",
   "name": "python",
   "nbconvert_exporter": "python",
   "pygments_lexer": "ipython2",
   "version": "2.7.13"
  }
 },
 "nbformat": 4,
 "nbformat_minor": 0
}
